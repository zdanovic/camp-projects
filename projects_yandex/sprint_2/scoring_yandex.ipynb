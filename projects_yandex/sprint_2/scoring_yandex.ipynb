{
 "cells": [
  {
   "cell_type": "markdown",
   "id": "386f2ae7",
   "metadata": {
    "deletable": false,
    "editable": false,
    "id": "386f2ae7"
   },
   "source": [
    "# Исследование надежности заемщиков\n"
   ]
  },
  {
   "cell_type": "markdown",
   "id": "ffe86f65",
   "metadata": {
    "deletable": false,
    "editable": false,
    "id": "ffe86f65"
   },
   "source": [
    "Во второй части проекта вы выполните шаги 3 и 4. Их вручную проверит ревьюер.\n",
    "Чтобы вам не пришлось писать код заново для шагов 1 и 2, мы добавили авторские решения в ячейки с кодом. \n",
    "\n"
   ]
  },
  {
   "cell_type": "markdown",
   "id": "26613308",
   "metadata": {
    "deletable": false,
    "editable": false,
    "id": "26613308"
   },
   "source": [
    "## Откройте таблицу и изучите общую информацию о данных"
   ]
  },
  {
   "cell_type": "markdown",
   "id": "3c9f838e",
   "metadata": {
    "deletable": false,
    "editable": false,
    "id": "3c9f838e"
   },
   "source": [
    "**Задание 1. Импортируйте библиотеку pandas. Считайте данные из csv-файла в датафрейм и сохраните в переменную `data`. Путь к файлу:**\n",
    "\n",
    "`/datasets/data.csv`"
   ]
  },
  {
   "cell_type": "code",
   "execution_count": 1,
   "id": "77a68a90",
   "metadata": {
    "deletable": false,
    "id": "77a68a90"
   },
   "outputs": [],
   "source": [
    "import pandas as pd\n",
    "import numpy as np\n",
    "from scipy.optimize import curve_fit\n",
    "\n",
    "try:\n",
    "    data = pd.read_csv('/datasets/data.csv')\n",
    "except:\n",
    "    data = pd.read_csv('https://code.s3.yandex.net/datasets/data.csv')"
   ]
  },
  {
   "cell_type": "markdown",
   "id": "45365635",
   "metadata": {
    "deletable": false,
    "editable": false,
    "id": "45365635"
   },
   "source": [
    "**Задание 2. Выведите первые 20 строчек датафрейма `data` на экран.**"
   ]
  },
  {
   "cell_type": "code",
   "execution_count": 2,
   "id": "b0451a9a",
   "metadata": {
    "deletable": false,
    "id": "b0451a9a",
    "outputId": "1a8f3ef2-d323-4ec2-ddf7-89670b5944c4"
   },
   "outputs": [
    {
     "data": {
      "text/html": [
       "<div>\n",
       "<style scoped>\n",
       "    .dataframe tbody tr th:only-of-type {\n",
       "        vertical-align: middle;\n",
       "    }\n",
       "\n",
       "    .dataframe tbody tr th {\n",
       "        vertical-align: top;\n",
       "    }\n",
       "\n",
       "    .dataframe thead th {\n",
       "        text-align: right;\n",
       "    }\n",
       "</style>\n",
       "<table border=\"1\" class=\"dataframe\">\n",
       "  <thead>\n",
       "    <tr style=\"text-align: right;\">\n",
       "      <th></th>\n",
       "      <th>children</th>\n",
       "      <th>days_employed</th>\n",
       "      <th>dob_years</th>\n",
       "      <th>education</th>\n",
       "      <th>education_id</th>\n",
       "      <th>family_status</th>\n",
       "      <th>family_status_id</th>\n",
       "      <th>gender</th>\n",
       "      <th>income_type</th>\n",
       "      <th>debt</th>\n",
       "      <th>total_income</th>\n",
       "      <th>purpose</th>\n",
       "    </tr>\n",
       "  </thead>\n",
       "  <tbody>\n",
       "    <tr>\n",
       "      <th>0</th>\n",
       "      <td>1</td>\n",
       "      <td>-8437.673028</td>\n",
       "      <td>42</td>\n",
       "      <td>высшее</td>\n",
       "      <td>0</td>\n",
       "      <td>женат / замужем</td>\n",
       "      <td>0</td>\n",
       "      <td>F</td>\n",
       "      <td>сотрудник</td>\n",
       "      <td>0</td>\n",
       "      <td>253875.639453</td>\n",
       "      <td>покупка жилья</td>\n",
       "    </tr>\n",
       "    <tr>\n",
       "      <th>1</th>\n",
       "      <td>1</td>\n",
       "      <td>-4024.803754</td>\n",
       "      <td>36</td>\n",
       "      <td>среднее</td>\n",
       "      <td>1</td>\n",
       "      <td>женат / замужем</td>\n",
       "      <td>0</td>\n",
       "      <td>F</td>\n",
       "      <td>сотрудник</td>\n",
       "      <td>0</td>\n",
       "      <td>112080.014102</td>\n",
       "      <td>приобретение автомобиля</td>\n",
       "    </tr>\n",
       "    <tr>\n",
       "      <th>2</th>\n",
       "      <td>0</td>\n",
       "      <td>-5623.422610</td>\n",
       "      <td>33</td>\n",
       "      <td>Среднее</td>\n",
       "      <td>1</td>\n",
       "      <td>женат / замужем</td>\n",
       "      <td>0</td>\n",
       "      <td>M</td>\n",
       "      <td>сотрудник</td>\n",
       "      <td>0</td>\n",
       "      <td>145885.952297</td>\n",
       "      <td>покупка жилья</td>\n",
       "    </tr>\n",
       "    <tr>\n",
       "      <th>3</th>\n",
       "      <td>3</td>\n",
       "      <td>-4124.747207</td>\n",
       "      <td>32</td>\n",
       "      <td>среднее</td>\n",
       "      <td>1</td>\n",
       "      <td>женат / замужем</td>\n",
       "      <td>0</td>\n",
       "      <td>M</td>\n",
       "      <td>сотрудник</td>\n",
       "      <td>0</td>\n",
       "      <td>267628.550329</td>\n",
       "      <td>дополнительное образование</td>\n",
       "    </tr>\n",
       "    <tr>\n",
       "      <th>4</th>\n",
       "      <td>0</td>\n",
       "      <td>340266.072047</td>\n",
       "      <td>53</td>\n",
       "      <td>среднее</td>\n",
       "      <td>1</td>\n",
       "      <td>гражданский брак</td>\n",
       "      <td>1</td>\n",
       "      <td>F</td>\n",
       "      <td>пенсионер</td>\n",
       "      <td>0</td>\n",
       "      <td>158616.077870</td>\n",
       "      <td>сыграть свадьбу</td>\n",
       "    </tr>\n",
       "    <tr>\n",
       "      <th>5</th>\n",
       "      <td>0</td>\n",
       "      <td>-926.185831</td>\n",
       "      <td>27</td>\n",
       "      <td>высшее</td>\n",
       "      <td>0</td>\n",
       "      <td>гражданский брак</td>\n",
       "      <td>1</td>\n",
       "      <td>M</td>\n",
       "      <td>компаньон</td>\n",
       "      <td>0</td>\n",
       "      <td>255763.565419</td>\n",
       "      <td>покупка жилья</td>\n",
       "    </tr>\n",
       "    <tr>\n",
       "      <th>6</th>\n",
       "      <td>0</td>\n",
       "      <td>-2879.202052</td>\n",
       "      <td>43</td>\n",
       "      <td>высшее</td>\n",
       "      <td>0</td>\n",
       "      <td>женат / замужем</td>\n",
       "      <td>0</td>\n",
       "      <td>F</td>\n",
       "      <td>компаньон</td>\n",
       "      <td>0</td>\n",
       "      <td>240525.971920</td>\n",
       "      <td>операции с жильем</td>\n",
       "    </tr>\n",
       "    <tr>\n",
       "      <th>7</th>\n",
       "      <td>0</td>\n",
       "      <td>-152.779569</td>\n",
       "      <td>50</td>\n",
       "      <td>СРЕДНЕЕ</td>\n",
       "      <td>1</td>\n",
       "      <td>женат / замужем</td>\n",
       "      <td>0</td>\n",
       "      <td>M</td>\n",
       "      <td>сотрудник</td>\n",
       "      <td>0</td>\n",
       "      <td>135823.934197</td>\n",
       "      <td>образование</td>\n",
       "    </tr>\n",
       "    <tr>\n",
       "      <th>8</th>\n",
       "      <td>2</td>\n",
       "      <td>-6929.865299</td>\n",
       "      <td>35</td>\n",
       "      <td>ВЫСШЕЕ</td>\n",
       "      <td>0</td>\n",
       "      <td>гражданский брак</td>\n",
       "      <td>1</td>\n",
       "      <td>F</td>\n",
       "      <td>сотрудник</td>\n",
       "      <td>0</td>\n",
       "      <td>95856.832424</td>\n",
       "      <td>на проведение свадьбы</td>\n",
       "    </tr>\n",
       "    <tr>\n",
       "      <th>9</th>\n",
       "      <td>0</td>\n",
       "      <td>-2188.756445</td>\n",
       "      <td>41</td>\n",
       "      <td>среднее</td>\n",
       "      <td>1</td>\n",
       "      <td>женат / замужем</td>\n",
       "      <td>0</td>\n",
       "      <td>M</td>\n",
       "      <td>сотрудник</td>\n",
       "      <td>0</td>\n",
       "      <td>144425.938277</td>\n",
       "      <td>покупка жилья для семьи</td>\n",
       "    </tr>\n",
       "    <tr>\n",
       "      <th>10</th>\n",
       "      <td>2</td>\n",
       "      <td>-4171.483647</td>\n",
       "      <td>36</td>\n",
       "      <td>высшее</td>\n",
       "      <td>0</td>\n",
       "      <td>женат / замужем</td>\n",
       "      <td>0</td>\n",
       "      <td>M</td>\n",
       "      <td>компаньон</td>\n",
       "      <td>0</td>\n",
       "      <td>113943.491460</td>\n",
       "      <td>покупка недвижимости</td>\n",
       "    </tr>\n",
       "    <tr>\n",
       "      <th>11</th>\n",
       "      <td>0</td>\n",
       "      <td>-792.701887</td>\n",
       "      <td>40</td>\n",
       "      <td>среднее</td>\n",
       "      <td>1</td>\n",
       "      <td>женат / замужем</td>\n",
       "      <td>0</td>\n",
       "      <td>F</td>\n",
       "      <td>сотрудник</td>\n",
       "      <td>0</td>\n",
       "      <td>77069.234271</td>\n",
       "      <td>покупка коммерческой недвижимости</td>\n",
       "    </tr>\n",
       "    <tr>\n",
       "      <th>12</th>\n",
       "      <td>0</td>\n",
       "      <td>NaN</td>\n",
       "      <td>65</td>\n",
       "      <td>среднее</td>\n",
       "      <td>1</td>\n",
       "      <td>гражданский брак</td>\n",
       "      <td>1</td>\n",
       "      <td>M</td>\n",
       "      <td>пенсионер</td>\n",
       "      <td>0</td>\n",
       "      <td>NaN</td>\n",
       "      <td>сыграть свадьбу</td>\n",
       "    </tr>\n",
       "    <tr>\n",
       "      <th>13</th>\n",
       "      <td>0</td>\n",
       "      <td>-1846.641941</td>\n",
       "      <td>54</td>\n",
       "      <td>неоконченное высшее</td>\n",
       "      <td>2</td>\n",
       "      <td>женат / замужем</td>\n",
       "      <td>0</td>\n",
       "      <td>F</td>\n",
       "      <td>сотрудник</td>\n",
       "      <td>0</td>\n",
       "      <td>130458.228857</td>\n",
       "      <td>приобретение автомобиля</td>\n",
       "    </tr>\n",
       "    <tr>\n",
       "      <th>14</th>\n",
       "      <td>0</td>\n",
       "      <td>-1844.956182</td>\n",
       "      <td>56</td>\n",
       "      <td>высшее</td>\n",
       "      <td>0</td>\n",
       "      <td>гражданский брак</td>\n",
       "      <td>1</td>\n",
       "      <td>F</td>\n",
       "      <td>компаньон</td>\n",
       "      <td>1</td>\n",
       "      <td>165127.911772</td>\n",
       "      <td>покупка жилой недвижимости</td>\n",
       "    </tr>\n",
       "    <tr>\n",
       "      <th>15</th>\n",
       "      <td>1</td>\n",
       "      <td>-972.364419</td>\n",
       "      <td>26</td>\n",
       "      <td>среднее</td>\n",
       "      <td>1</td>\n",
       "      <td>женат / замужем</td>\n",
       "      <td>0</td>\n",
       "      <td>F</td>\n",
       "      <td>сотрудник</td>\n",
       "      <td>0</td>\n",
       "      <td>116820.904450</td>\n",
       "      <td>строительство собственной недвижимости</td>\n",
       "    </tr>\n",
       "    <tr>\n",
       "      <th>16</th>\n",
       "      <td>0</td>\n",
       "      <td>-1719.934226</td>\n",
       "      <td>35</td>\n",
       "      <td>среднее</td>\n",
       "      <td>1</td>\n",
       "      <td>женат / замужем</td>\n",
       "      <td>0</td>\n",
       "      <td>F</td>\n",
       "      <td>сотрудник</td>\n",
       "      <td>0</td>\n",
       "      <td>289202.704229</td>\n",
       "      <td>недвижимость</td>\n",
       "    </tr>\n",
       "    <tr>\n",
       "      <th>17</th>\n",
       "      <td>0</td>\n",
       "      <td>-2369.999720</td>\n",
       "      <td>33</td>\n",
       "      <td>высшее</td>\n",
       "      <td>0</td>\n",
       "      <td>гражданский брак</td>\n",
       "      <td>1</td>\n",
       "      <td>M</td>\n",
       "      <td>сотрудник</td>\n",
       "      <td>0</td>\n",
       "      <td>90410.586745</td>\n",
       "      <td>строительство недвижимости</td>\n",
       "    </tr>\n",
       "    <tr>\n",
       "      <th>18</th>\n",
       "      <td>0</td>\n",
       "      <td>400281.136913</td>\n",
       "      <td>53</td>\n",
       "      <td>среднее</td>\n",
       "      <td>1</td>\n",
       "      <td>вдовец / вдова</td>\n",
       "      <td>2</td>\n",
       "      <td>F</td>\n",
       "      <td>пенсионер</td>\n",
       "      <td>0</td>\n",
       "      <td>56823.777243</td>\n",
       "      <td>на покупку подержанного автомобиля</td>\n",
       "    </tr>\n",
       "    <tr>\n",
       "      <th>19</th>\n",
       "      <td>0</td>\n",
       "      <td>-10038.818549</td>\n",
       "      <td>48</td>\n",
       "      <td>СРЕДНЕЕ</td>\n",
       "      <td>1</td>\n",
       "      <td>в разводе</td>\n",
       "      <td>3</td>\n",
       "      <td>F</td>\n",
       "      <td>сотрудник</td>\n",
       "      <td>0</td>\n",
       "      <td>242831.107982</td>\n",
       "      <td>на покупку своего автомобиля</td>\n",
       "    </tr>\n",
       "  </tbody>\n",
       "</table>\n",
       "</div>"
      ],
      "text/plain": [
       "    children  days_employed  dob_years            education  education_id  \\\n",
       "0          1   -8437.673028         42               высшее             0   \n",
       "1          1   -4024.803754         36              среднее             1   \n",
       "2          0   -5623.422610         33              Среднее             1   \n",
       "3          3   -4124.747207         32              среднее             1   \n",
       "4          0  340266.072047         53              среднее             1   \n",
       "5          0    -926.185831         27               высшее             0   \n",
       "6          0   -2879.202052         43               высшее             0   \n",
       "7          0    -152.779569         50              СРЕДНЕЕ             1   \n",
       "8          2   -6929.865299         35               ВЫСШЕЕ             0   \n",
       "9          0   -2188.756445         41              среднее             1   \n",
       "10         2   -4171.483647         36               высшее             0   \n",
       "11         0    -792.701887         40              среднее             1   \n",
       "12         0            NaN         65              среднее             1   \n",
       "13         0   -1846.641941         54  неоконченное высшее             2   \n",
       "14         0   -1844.956182         56               высшее             0   \n",
       "15         1    -972.364419         26              среднее             1   \n",
       "16         0   -1719.934226         35              среднее             1   \n",
       "17         0   -2369.999720         33               высшее             0   \n",
       "18         0  400281.136913         53              среднее             1   \n",
       "19         0  -10038.818549         48              СРЕДНЕЕ             1   \n",
       "\n",
       "       family_status  family_status_id gender income_type  debt  \\\n",
       "0    женат / замужем                 0      F   сотрудник     0   \n",
       "1    женат / замужем                 0      F   сотрудник     0   \n",
       "2    женат / замужем                 0      M   сотрудник     0   \n",
       "3    женат / замужем                 0      M   сотрудник     0   \n",
       "4   гражданский брак                 1      F   пенсионер     0   \n",
       "5   гражданский брак                 1      M   компаньон     0   \n",
       "6    женат / замужем                 0      F   компаньон     0   \n",
       "7    женат / замужем                 0      M   сотрудник     0   \n",
       "8   гражданский брак                 1      F   сотрудник     0   \n",
       "9    женат / замужем                 0      M   сотрудник     0   \n",
       "10   женат / замужем                 0      M   компаньон     0   \n",
       "11   женат / замужем                 0      F   сотрудник     0   \n",
       "12  гражданский брак                 1      M   пенсионер     0   \n",
       "13   женат / замужем                 0      F   сотрудник     0   \n",
       "14  гражданский брак                 1      F   компаньон     1   \n",
       "15   женат / замужем                 0      F   сотрудник     0   \n",
       "16   женат / замужем                 0      F   сотрудник     0   \n",
       "17  гражданский брак                 1      M   сотрудник     0   \n",
       "18    вдовец / вдова                 2      F   пенсионер     0   \n",
       "19         в разводе                 3      F   сотрудник     0   \n",
       "\n",
       "     total_income                                 purpose  \n",
       "0   253875.639453                           покупка жилья  \n",
       "1   112080.014102                 приобретение автомобиля  \n",
       "2   145885.952297                           покупка жилья  \n",
       "3   267628.550329              дополнительное образование  \n",
       "4   158616.077870                         сыграть свадьбу  \n",
       "5   255763.565419                           покупка жилья  \n",
       "6   240525.971920                       операции с жильем  \n",
       "7   135823.934197                             образование  \n",
       "8    95856.832424                   на проведение свадьбы  \n",
       "9   144425.938277                 покупка жилья для семьи  \n",
       "10  113943.491460                    покупка недвижимости  \n",
       "11   77069.234271       покупка коммерческой недвижимости  \n",
       "12            NaN                         сыграть свадьбу  \n",
       "13  130458.228857                 приобретение автомобиля  \n",
       "14  165127.911772              покупка жилой недвижимости  \n",
       "15  116820.904450  строительство собственной недвижимости  \n",
       "16  289202.704229                            недвижимость  \n",
       "17   90410.586745              строительство недвижимости  \n",
       "18   56823.777243      на покупку подержанного автомобиля  \n",
       "19  242831.107982            на покупку своего автомобиля  "
      ]
     },
     "execution_count": 2,
     "metadata": {},
     "output_type": "execute_result"
    }
   ],
   "source": [
    "data.head(20)"
   ]
  },
  {
   "cell_type": "markdown",
   "id": "0ed8f27f",
   "metadata": {
    "deletable": false,
    "editable": false,
    "id": "0ed8f27f"
   },
   "source": [
    "**Задание 3. Выведите основную информацию о датафрейме с помощью метода `info()`.**"
   ]
  },
  {
   "cell_type": "code",
   "execution_count": 3,
   "id": "ab3f863b",
   "metadata": {
    "deletable": false,
    "id": "ab3f863b",
    "outputId": "15376089-8dad-46c9-b520-c05248d43158"
   },
   "outputs": [
    {
     "name": "stdout",
     "output_type": "stream",
     "text": [
      "<class 'pandas.core.frame.DataFrame'>\n",
      "RangeIndex: 21525 entries, 0 to 21524\n",
      "Data columns (total 12 columns):\n",
      " #   Column            Non-Null Count  Dtype  \n",
      "---  ------            --------------  -----  \n",
      " 0   children          21525 non-null  int64  \n",
      " 1   days_employed     19351 non-null  float64\n",
      " 2   dob_years         21525 non-null  int64  \n",
      " 3   education         21525 non-null  object \n",
      " 4   education_id      21525 non-null  int64  \n",
      " 5   family_status     21525 non-null  object \n",
      " 6   family_status_id  21525 non-null  int64  \n",
      " 7   gender            21525 non-null  object \n",
      " 8   income_type       21525 non-null  object \n",
      " 9   debt              21525 non-null  int64  \n",
      " 10  total_income      19351 non-null  float64\n",
      " 11  purpose           21525 non-null  object \n",
      "dtypes: float64(2), int64(5), object(5)\n",
      "memory usage: 2.0+ MB\n"
     ]
    }
   ],
   "source": [
    "data.info()"
   ]
  },
  {
   "cell_type": "markdown",
   "id": "60e3e22d",
   "metadata": {
    "deletable": false,
    "editable": false,
    "id": "60e3e22d"
   },
   "source": [
    "## Предобработка данных"
   ]
  },
  {
   "cell_type": "markdown",
   "id": "03dc170c",
   "metadata": {
    "deletable": false,
    "editable": false,
    "id": "03dc170c"
   },
   "source": [
    "### Удаление пропусков"
   ]
  },
  {
   "cell_type": "markdown",
   "id": "a4f54eef",
   "metadata": {
    "deletable": false,
    "editable": false,
    "id": "a4f54eef"
   },
   "source": [
    "**Задание 4. Выведите количество пропущенных значений для каждого столбца. Используйте комбинацию двух методов.**"
   ]
  },
  {
   "cell_type": "code",
   "execution_count": 4,
   "id": "2dc372b2",
   "metadata": {
    "deletable": false,
    "id": "2dc372b2",
    "outputId": "81f4d817-781c-465c-ed15-91ce4446810d"
   },
   "outputs": [
    {
     "data": {
      "text/plain": [
       "children               0\n",
       "days_employed       2174\n",
       "dob_years              0\n",
       "education              0\n",
       "education_id           0\n",
       "family_status          0\n",
       "family_status_id       0\n",
       "gender                 0\n",
       "income_type            0\n",
       "debt                   0\n",
       "total_income        2174\n",
       "purpose                0\n",
       "dtype: int64"
      ]
     },
     "execution_count": 4,
     "metadata": {},
     "output_type": "execute_result"
    }
   ],
   "source": [
    "data.isna().sum()"
   ]
  },
  {
   "cell_type": "markdown",
   "id": "14f011b1",
   "metadata": {
    "deletable": false,
    "editable": false,
    "id": "14f011b1"
   },
   "source": [
    "**Задание 5. В двух столбцах есть пропущенные значения. Один из них — `days_employed`. Пропуски в этом столбце вы обработаете на следующем этапе. Другой столбец с пропущенными значениями — `total_income` — хранит данные о доходах. На сумму дохода сильнее всего влияет тип занятости, поэтому заполнить пропуски в этом столбце нужно медианным значением по каждому типу из столбца `income_type`. Например, у человека с типом занятости `сотрудник` пропуск в столбце `total_income` должен быть заполнен медианным доходом среди всех записей с тем же типом.**"
   ]
  },
  {
   "cell_type": "code",
   "execution_count": 5,
   "id": "bdabfb6e",
   "metadata": {
    "deletable": false,
    "id": "bdabfb6e"
   },
   "outputs": [],
   "source": [
    "for t in data['income_type'].unique():\n",
    "    data.loc[(data['income_type'] == t) & (data['total_income'].isna()), 'total_income'] = \\\n",
    "    data.loc[(data['income_type'] == t), 'total_income'].median()"
   ]
  },
  {
   "cell_type": "markdown",
   "id": "5be34059",
   "metadata": {
    "deletable": false,
    "editable": false,
    "id": "5be34059"
   },
   "source": [
    "### Обработка аномальных значений"
   ]
  },
  {
   "cell_type": "markdown",
   "id": "a87606cb",
   "metadata": {
    "deletable": false,
    "editable": false,
    "id": "a87606cb"
   },
   "source": [
    "**Задание 6. В данных могут встречаться артефакты (аномалии) — значения, которые не отражают действительность и появились по какой-то ошибке. таким артефактом будет отрицательное количество дней трудового стажа в столбце `days_employed`. Для реальных данных это нормально. Обработайте значения в этом столбце: замените все отрицательные значения положительными с помощью метода `abs()`.**"
   ]
  },
  {
   "cell_type": "code",
   "execution_count": 6,
   "id": "020c46cc",
   "metadata": {
    "deletable": false,
    "id": "020c46cc"
   },
   "outputs": [],
   "source": [
    "data['days_employed'] = data['days_employed'].abs()"
   ]
  },
  {
   "cell_type": "markdown",
   "id": "45538a3a",
   "metadata": {
    "deletable": false,
    "editable": false,
    "id": "45538a3a"
   },
   "source": [
    "**Задание 7. Для каждого типа занятости выведите медианное значение трудового стажа `days_employed` в днях.**"
   ]
  },
  {
   "cell_type": "code",
   "execution_count": 7,
   "id": "cd3e6328",
   "metadata": {
    "deletable": false,
    "id": "cd3e6328",
    "outputId": "801ef80e-522b-4668-f34e-565af7432bcf"
   },
   "outputs": [
    {
     "data": {
      "text/plain": [
       "income_type\n",
       "безработный        366413.652744\n",
       "в декрете            3296.759962\n",
       "госслужащий          2689.368353\n",
       "компаньон            1547.382223\n",
       "пенсионер          365213.306266\n",
       "предприниматель       520.848083\n",
       "сотрудник            1574.202821\n",
       "студент               578.751554\n",
       "Name: days_employed, dtype: float64"
      ]
     },
     "execution_count": 7,
     "metadata": {},
     "output_type": "execute_result"
    }
   ],
   "source": [
    "data.groupby('income_type')['days_employed'].agg('median')"
   ]
  },
  {
   "cell_type": "markdown",
   "id": "90c5f058",
   "metadata": {
    "deletable": false,
    "editable": false,
    "id": "90c5f058"
   },
   "source": [
    "У двух типов (безработные и пенсионеры) получатся аномально большие значения. Исправить такие значения сложно, поэтому оставьте их как есть."
   ]
  },
  {
   "cell_type": "markdown",
   "id": "9652e50d",
   "metadata": {
    "deletable": false,
    "editable": false,
    "id": "9652e50d"
   },
   "source": [
    "**Задание 8. Выведите перечень уникальных значений столбца `children`.**"
   ]
  },
  {
   "cell_type": "code",
   "execution_count": 8,
   "id": "dbb37b8e",
   "metadata": {
    "deletable": false,
    "id": "dbb37b8e",
    "outputId": "6975b15c-7f95-4697-d16d-a0c79b657b03"
   },
   "outputs": [
    {
     "data": {
      "text/plain": [
       "array([ 1,  0,  3,  2, -1,  4, 20,  5])"
      ]
     },
     "execution_count": 8,
     "metadata": {},
     "output_type": "execute_result"
    }
   ],
   "source": [
    "data['children'].unique()"
   ]
  },
  {
   "cell_type": "markdown",
   "id": "2b8b0715",
   "metadata": {
    "deletable": false,
    "editable": false,
    "id": "2b8b0715"
   },
   "source": [
    "**Задание 9. В столбце `children` есть два аномальных значения. Удалите строки, в которых встречаются такие аномальные значения из датафрейма `data`.**"
   ]
  },
  {
   "cell_type": "code",
   "execution_count": 9,
   "id": "20009df8",
   "metadata": {
    "deletable": false,
    "id": "20009df8"
   },
   "outputs": [],
   "source": [
    "data = data[(data['children'] != -1) & (data['children'] != 20)]"
   ]
  },
  {
   "cell_type": "markdown",
   "id": "8c6ac9f1",
   "metadata": {
    "deletable": false,
    "editable": false,
    "id": "8c6ac9f1"
   },
   "source": [
    "**Задание 10. Ещё раз выведите перечень уникальных значений столбца `children`, чтобы убедиться, что артефакты удалены.**"
   ]
  },
  {
   "cell_type": "code",
   "execution_count": 10,
   "id": "07337b81",
   "metadata": {
    "deletable": false,
    "id": "07337b81",
    "outputId": "b2097101-d49d-44d9-901b-32a65c9463d1"
   },
   "outputs": [
    {
     "data": {
      "text/plain": [
       "array([1, 0, 3, 2, 4, 5])"
      ]
     },
     "execution_count": 10,
     "metadata": {},
     "output_type": "execute_result"
    }
   ],
   "source": [
    "data['children'].unique()"
   ]
  },
  {
   "cell_type": "markdown",
   "id": "ee3f52d4",
   "metadata": {
    "deletable": false,
    "editable": false,
    "id": "ee3f52d4"
   },
   "source": [
    "### Удаление пропусков (продолжение)"
   ]
  },
  {
   "cell_type": "markdown",
   "id": "a700b0e4",
   "metadata": {
    "deletable": false,
    "editable": false,
    "id": "a700b0e4"
   },
   "source": [
    "**Задание 11. Заполните пропуски в столбце `days_employed` медианными значениями по каждого типа занятости `income_type`.**"
   ]
  },
  {
   "cell_type": "code",
   "execution_count": 11,
   "id": "61946b83",
   "metadata": {
    "deletable": false,
    "id": "61946b83"
   },
   "outputs": [],
   "source": [
    "for t in data['income_type'].unique():\n",
    "    data.loc[(data['income_type'] == t) & (data['days_employed'].isna()), 'days_employed'] = \\\n",
    "    data.loc[(data['income_type'] == t), 'days_employed'].median()"
   ]
  },
  {
   "cell_type": "markdown",
   "id": "550dcd9b",
   "metadata": {
    "deletable": false,
    "editable": false,
    "id": "550dcd9b"
   },
   "source": [
    "**Задание 12. Убедитесь, что все пропуски заполнены. Проверьте себя и ещё раз выведите количество пропущенных значений для каждого столбца с помощью двух методов.**"
   ]
  },
  {
   "cell_type": "code",
   "execution_count": 12,
   "id": "937c7014",
   "metadata": {
    "deletable": false,
    "id": "937c7014",
    "outputId": "8da1e4e1-358e-4e87-98c9-f261bce0a7b2"
   },
   "outputs": [
    {
     "data": {
      "text/plain": [
       "children            0\n",
       "days_employed       0\n",
       "dob_years           0\n",
       "education           0\n",
       "education_id        0\n",
       "family_status       0\n",
       "family_status_id    0\n",
       "gender              0\n",
       "income_type         0\n",
       "debt                0\n",
       "total_income        0\n",
       "purpose             0\n",
       "dtype: int64"
      ]
     },
     "execution_count": 12,
     "metadata": {},
     "output_type": "execute_result"
    }
   ],
   "source": [
    "data.isna().sum()"
   ]
  },
  {
   "cell_type": "markdown",
   "id": "d522e295",
   "metadata": {
    "deletable": false,
    "editable": false,
    "id": "d522e295"
   },
   "source": [
    "### Изменение типов данных"
   ]
  },
  {
   "cell_type": "markdown",
   "id": "c229c581",
   "metadata": {
    "deletable": false,
    "editable": false,
    "id": "c229c581"
   },
   "source": [
    "**Задание 13. Замените вещественный тип данных в столбце `total_income` на целочисленный с помощью метода `astype()`.**"
   ]
  },
  {
   "cell_type": "code",
   "execution_count": 13,
   "id": "31036462",
   "metadata": {
    "deletable": false,
    "id": "31036462"
   },
   "outputs": [],
   "source": [
    "data['total_income'] = data['total_income'].astype(int)"
   ]
  },
  {
   "cell_type": "markdown",
   "id": "b8e3d1d9",
   "metadata": {
    "deletable": false,
    "editable": false,
    "id": "b8e3d1d9"
   },
   "source": [
    "### Обработка дубликатов"
   ]
  },
  {
   "cell_type": "markdown",
   "id": "9be53c49",
   "metadata": {
    "deletable": false,
    "editable": false,
    "id": "9be53c49"
   },
   "source": [
    "**Задание 14. Обработайте неявные дубликаты в столбце `education`. В этом столбце есть одни и те же значения, но записанные по-разному: с использованием заглавных и строчных букв. Приведите их к нижнему регистру.**"
   ]
  },
  {
   "cell_type": "code",
   "execution_count": 14,
   "id": "d89e73e1",
   "metadata": {
    "deletable": false,
    "id": "d89e73e1"
   },
   "outputs": [],
   "source": [
    "data['education'] = data['education'].str.lower()"
   ]
  },
  {
   "cell_type": "markdown",
   "id": "01d4500e",
   "metadata": {
    "deletable": false,
    "editable": false,
    "id": "01d4500e"
   },
   "source": [
    "**Задание 15. Выведите на экран количество строк-дубликатов в данных. Если такие строки присутствуют, удалите их.**"
   ]
  },
  {
   "cell_type": "code",
   "execution_count": 15,
   "id": "e10efb23",
   "metadata": {
    "deletable": false,
    "id": "e10efb23",
    "outputId": "9684deba-1934-42d1-99e1-cda61740f822"
   },
   "outputs": [
    {
     "data": {
      "text/plain": [
       "71"
      ]
     },
     "execution_count": 15,
     "metadata": {},
     "output_type": "execute_result"
    }
   ],
   "source": [
    "data.duplicated().sum()"
   ]
  },
  {
   "cell_type": "code",
   "execution_count": 16,
   "id": "df853f20",
   "metadata": {
    "deletable": false,
    "id": "df853f20"
   },
   "outputs": [],
   "source": [
    "data = data.drop_duplicates()"
   ]
  },
  {
   "cell_type": "markdown",
   "id": "627be38f",
   "metadata": {
    "deletable": false,
    "editable": false,
    "id": "627be38f"
   },
   "source": [
    "### Категоризация данных"
   ]
  },
  {
   "cell_type": "markdown",
   "id": "4684c3e0",
   "metadata": {
    "deletable": false,
    "editable": false,
    "id": "4684c3e0"
   },
   "source": [
    "**Задание 16. На основании диапазонов, указанных ниже, создайте в датафрейме `data` столбец `total_income_category` с категориями:**\n",
    "\n",
    "- 0–30000 — `'E'`;\n",
    "- 30001–50000 — `'D'`;\n",
    "- 50001–200000 — `'C'`;\n",
    "- 200001–1000000 — `'B'`;\n",
    "- 1000001 и выше — `'A'`.\n",
    "\n",
    "\n",
    "**Например, кредитополучателю с доходом 25000 нужно назначить категорию `'E'`, а клиенту, получающему 235000, — `'B'`. Используйте собственную функцию с именем `categorize_income()` и метод `apply()`.**"
   ]
  },
  {
   "cell_type": "code",
   "execution_count": 17,
   "id": "78965238",
   "metadata": {
    "deletable": false,
    "id": "78965238"
   },
   "outputs": [],
   "source": [
    "def categorize_income(income):\n",
    "    try:\n",
    "        if 0 <= income <= 30000:\n",
    "            return 'E'\n",
    "        elif 30001 <= income <= 50000:\n",
    "            return 'D'\n",
    "        elif 50001 <= income <= 200000:\n",
    "            return 'C'\n",
    "        elif 200001 <= income <= 1000000:\n",
    "            return 'B'\n",
    "        elif income >= 1000001:\n",
    "            return 'A'\n",
    "    except:\n",
    "        pass"
   ]
  },
  {
   "cell_type": "code",
   "execution_count": 18,
   "id": "0980ada1",
   "metadata": {
    "deletable": false,
    "id": "0980ada1"
   },
   "outputs": [],
   "source": [
    "data['total_income_category'] = data['total_income'].apply(categorize_income)"
   ]
  },
  {
   "cell_type": "markdown",
   "id": "9917bba0",
   "metadata": {
    "deletable": false,
    "editable": false,
    "id": "9917bba0"
   },
   "source": [
    "**Задание 17. Выведите на экран перечень уникальных целей взятия кредита из столбца `purpose`.**"
   ]
  },
  {
   "cell_type": "code",
   "execution_count": 19,
   "id": "ee07b65e",
   "metadata": {
    "deletable": false,
    "id": "ee07b65e",
    "outputId": "673c12d9-7d7e-4ae0-9812-c622c89dd244"
   },
   "outputs": [
    {
     "data": {
      "text/plain": [
       "array(['покупка жилья', 'приобретение автомобиля',\n",
       "       'дополнительное образование', 'сыграть свадьбу',\n",
       "       'операции с жильем', 'образование', 'на проведение свадьбы',\n",
       "       'покупка жилья для семьи', 'покупка недвижимости',\n",
       "       'покупка коммерческой недвижимости', 'покупка жилой недвижимости',\n",
       "       'строительство собственной недвижимости', 'недвижимость',\n",
       "       'строительство недвижимости', 'на покупку подержанного автомобиля',\n",
       "       'на покупку своего автомобиля',\n",
       "       'операции с коммерческой недвижимостью',\n",
       "       'строительство жилой недвижимости', 'жилье',\n",
       "       'операции со своей недвижимостью', 'автомобили',\n",
       "       'заняться образованием', 'сделка с подержанным автомобилем',\n",
       "       'получение образования', 'автомобиль', 'свадьба',\n",
       "       'получение дополнительного образования', 'покупка своего жилья',\n",
       "       'операции с недвижимостью', 'получение высшего образования',\n",
       "       'свой автомобиль', 'сделка с автомобилем',\n",
       "       'профильное образование', 'высшее образование',\n",
       "       'покупка жилья для сдачи', 'на покупку автомобиля', 'ремонт жилью',\n",
       "       'заняться высшим образованием'], dtype=object)"
      ]
     },
     "execution_count": 19,
     "metadata": {},
     "output_type": "execute_result"
    }
   ],
   "source": [
    "data['purpose'].unique()"
   ]
  },
  {
   "cell_type": "markdown",
   "id": "52b79d56",
   "metadata": {
    "deletable": false,
    "editable": false,
    "id": "52b79d56"
   },
   "source": [
    "**Задание 18. Создайте функцию, которая на основании данных из столбца `purpose` сформирует новый столбец `purpose_category`, в который войдут следующие категории:**\n",
    "\n",
    "- `'операции с автомобилем'`,\n",
    "- `'операции с недвижимостью'`,\n",
    "- `'проведение свадьбы'`,\n",
    "- `'получение образования'`.\n",
    "\n",
    "**Например, если в столбце `purpose` находится подстрока `'на покупку автомобиля'`, то в столбце `purpose_category` должна появиться строка `'операции с автомобилем'`.**\n",
    "\n",
    "**Используйте собственную функцию с именем `categorize_purpose()` и метод `apply()`. Изучите данные в столбце `purpose` и определите, какие подстроки помогут вам правильно определить категорию.**"
   ]
  },
  {
   "cell_type": "code",
   "execution_count": 20,
   "id": "be41da5d",
   "metadata": {
    "deletable": false,
    "id": "be41da5d"
   },
   "outputs": [],
   "source": [
    "def categorize_purpose(row):\n",
    "    try:\n",
    "        if 'автом' in row:\n",
    "            return 'операции с автомобилем'\n",
    "        elif 'жил' in row or 'недвиж' in row:\n",
    "            return 'операции с недвижимостью'\n",
    "        elif 'свад' in row:\n",
    "            return 'проведение свадьбы'\n",
    "        elif 'образов' in row:\n",
    "            return 'получение образования'\n",
    "    except:\n",
    "        return 'нет категории'"
   ]
  },
  {
   "cell_type": "code",
   "execution_count": 21,
   "id": "94c4a19a",
   "metadata": {
    "deletable": false,
    "id": "94c4a19a"
   },
   "outputs": [],
   "source": [
    "data['purpose_category'] = data['purpose'].apply(categorize_purpose)"
   ]
  },
  {
   "cell_type": "markdown",
   "id": "3d596c34",
   "metadata": {
    "deletable": false,
    "editable": false,
    "id": "3d596c34"
   },
   "source": [
    "### Шаг 3. Исследуйте данные и ответьте на вопросы"
   ]
  },
  {
   "cell_type": "markdown",
   "id": "648db036",
   "metadata": {
    "deletable": false,
    "editable": false,
    "id": "648db036"
   },
   "source": [
    "#### 3.1 Есть ли зависимость между количеством детей и возвратом кредита в срок?"
   ]
  },
  {
   "cell_type": "code",
   "execution_count": 22,
   "id": "7fcff25e",
   "metadata": {
    "deletable": false,
    "id": "7fcff25e"
   },
   "outputs": [
    {
     "data": {
      "text/html": [
       "<div>\n",
       "<style scoped>\n",
       "    .dataframe tbody tr th:only-of-type {\n",
       "        vertical-align: middle;\n",
       "    }\n",
       "\n",
       "    .dataframe tbody tr th {\n",
       "        vertical-align: top;\n",
       "    }\n",
       "\n",
       "    .dataframe thead th {\n",
       "        text-align: right;\n",
       "    }\n",
       "</style>\n",
       "<table border=\"1\" class=\"dataframe\">\n",
       "  <thead>\n",
       "    <tr style=\"text-align: right;\">\n",
       "      <th></th>\n",
       "      <th>count</th>\n",
       "      <th>mean</th>\n",
       "      <th>sum</th>\n",
       "    </tr>\n",
       "    <tr>\n",
       "      <th>children</th>\n",
       "      <th></th>\n",
       "      <th></th>\n",
       "      <th></th>\n",
       "    </tr>\n",
       "  </thead>\n",
       "  <tbody>\n",
       "    <tr>\n",
       "      <th>0</th>\n",
       "      <td>14091.0</td>\n",
       "      <td>0.075438</td>\n",
       "      <td>1063.0</td>\n",
       "    </tr>\n",
       "    <tr>\n",
       "      <th>1</th>\n",
       "      <td>4808.0</td>\n",
       "      <td>0.092346</td>\n",
       "      <td>444.0</td>\n",
       "    </tr>\n",
       "    <tr>\n",
       "      <th>2</th>\n",
       "      <td>2052.0</td>\n",
       "      <td>0.094542</td>\n",
       "      <td>194.0</td>\n",
       "    </tr>\n",
       "    <tr>\n",
       "      <th>3</th>\n",
       "      <td>330.0</td>\n",
       "      <td>0.081818</td>\n",
       "      <td>27.0</td>\n",
       "    </tr>\n",
       "    <tr>\n",
       "      <th>4</th>\n",
       "      <td>41.0</td>\n",
       "      <td>0.097561</td>\n",
       "      <td>4.0</td>\n",
       "    </tr>\n",
       "    <tr>\n",
       "      <th>5</th>\n",
       "      <td>9.0</td>\n",
       "      <td>0.000000</td>\n",
       "      <td>0.0</td>\n",
       "    </tr>\n",
       "  </tbody>\n",
       "</table>\n",
       "</div>"
      ],
      "text/plain": [
       "            count      mean     sum\n",
       "children                           \n",
       "0         14091.0  0.075438  1063.0\n",
       "1          4808.0  0.092346   444.0\n",
       "2          2052.0  0.094542   194.0\n",
       "3           330.0  0.081818    27.0\n",
       "4            41.0  0.097561     4.0\n",
       "5             9.0  0.000000     0.0"
      ]
     },
     "execution_count": 22,
     "metadata": {},
     "output_type": "execute_result"
    }
   ],
   "source": [
    "# Ваш код будет здесь. Вы можете создавать новые ячейки.\n",
    "data.pivot_table(values='debt', index='children', aggfunc=({'count', 'sum', 'mean'})).sort_values('children')"
   ]
  },
  {
   "cell_type": "markdown",
   "id": "2eb9088e",
   "metadata": {
    "deletable": false,
    "id": "2eb9088e"
   },
   "source": [
    "**Вывод:**\\\n",
    "По соотношениям можно сказать, что бездетные реже имеют просрочки.\\\n",
    "Однако, уверенно сказать, что с увеличением количества детей увеличивается и количество просрочек - нельзя,\\\n",
    "так как выбоорка данных по семьям с детьми явно меньше.\\\n",
    "Хотя тенденция есть. Нужно больше данных."
   ]
  },
  {
   "cell_type": "markdown",
   "id": "74c9b3a7",
   "metadata": {
    "deletable": false,
    "editable": false,
    "id": "74c9b3a7"
   },
   "source": [
    "#### 3.2 Есть ли зависимость между семейным положением и возвратом кредита в срок?"
   ]
  },
  {
   "cell_type": "code",
   "execution_count": 23,
   "id": "8098ab3b",
   "metadata": {
    "deletable": false,
    "id": "8098ab3b"
   },
   "outputs": [
    {
     "data": {
      "text/html": [
       "<div>\n",
       "<style scoped>\n",
       "    .dataframe tbody tr th:only-of-type {\n",
       "        vertical-align: middle;\n",
       "    }\n",
       "\n",
       "    .dataframe tbody tr th {\n",
       "        vertical-align: top;\n",
       "    }\n",
       "\n",
       "    .dataframe thead th {\n",
       "        text-align: right;\n",
       "    }\n",
       "</style>\n",
       "<table border=\"1\" class=\"dataframe\">\n",
       "  <thead>\n",
       "    <tr style=\"text-align: right;\">\n",
       "      <th></th>\n",
       "      <th>count</th>\n",
       "      <th>mean</th>\n",
       "      <th>sum</th>\n",
       "    </tr>\n",
       "    <tr>\n",
       "      <th>family_status</th>\n",
       "      <th></th>\n",
       "      <th></th>\n",
       "      <th></th>\n",
       "    </tr>\n",
       "  </thead>\n",
       "  <tbody>\n",
       "    <tr>\n",
       "      <th>Не женат / не замужем</th>\n",
       "      <td>2796.0</td>\n",
       "      <td>0.097639</td>\n",
       "      <td>273.0</td>\n",
       "    </tr>\n",
       "    <tr>\n",
       "      <th>гражданский брак</th>\n",
       "      <td>4134.0</td>\n",
       "      <td>0.093130</td>\n",
       "      <td>385.0</td>\n",
       "    </tr>\n",
       "    <tr>\n",
       "      <th>женат / замужем</th>\n",
       "      <td>12261.0</td>\n",
       "      <td>0.075606</td>\n",
       "      <td>927.0</td>\n",
       "    </tr>\n",
       "    <tr>\n",
       "      <th>в разводе</th>\n",
       "      <td>1189.0</td>\n",
       "      <td>0.070648</td>\n",
       "      <td>84.0</td>\n",
       "    </tr>\n",
       "    <tr>\n",
       "      <th>вдовец / вдова</th>\n",
       "      <td>951.0</td>\n",
       "      <td>0.066246</td>\n",
       "      <td>63.0</td>\n",
       "    </tr>\n",
       "  </tbody>\n",
       "</table>\n",
       "</div>"
      ],
      "text/plain": [
       "                         count      mean    sum\n",
       "family_status                                  \n",
       "Не женат / не замужем   2796.0  0.097639  273.0\n",
       "гражданский брак        4134.0  0.093130  385.0\n",
       "женат / замужем        12261.0  0.075606  927.0\n",
       "в разводе               1189.0  0.070648   84.0\n",
       "вдовец / вдова           951.0  0.066246   63.0"
      ]
     },
     "execution_count": 23,
     "metadata": {},
     "output_type": "execute_result"
    }
   ],
   "source": [
    "# Ваш код будет здесь. Вы можете создавать новые ячейки.\n",
    "data.pivot_table(values='debt', index='family_status', aggfunc=({'count', 'sum', 'mean'})).sort_values('mean', ascending=False)"
   ]
  },
  {
   "cell_type": "markdown",
   "id": "c389ca63",
   "metadata": {
    "deletable": false,
    "id": "c389ca63"
   },
   "source": [
    "**Вывод:**\\\n",
    "Можем проследить отчетливую тенденцию в сторону уменьшения количества невозвратов\\\n",
    "с изменением семейного положения.\\\n",
    "Но скорее всего эта корреляция напрямую связана с жизненным опытом. Так как можно\\\n",
    "предположить, что изменение статуса напрямую связано с возрастом, а также получением\\\n",
    "некоторого \"жизненного опыта\", а вместе с ним \"осознанности\".\\\n",
    "Удобная и рабочая метрика, которую можно использовать.\\\n",
    "\n",
    "**Для уточнения корректности выводов**, а также чтобы проверить \"возрастную\" гипотезу\\\n",
    "нужно связаться с инженерами, для уточнения: есть ли техническая возможность\\\n",
    "уточнить конкретнее семейный статус и возраст клиента в момент появления задолженности."
   ]
  },
  {
   "cell_type": "markdown",
   "id": "7255b7a2",
   "metadata": {},
   "source": [
    "**Вывод:**\\\n",
    "Не состоящие в браке и состоящие в гражданском браке - имеют самый рисковый коэфицент невозврата.\\\n",
    "У женатых этот показатель лучше на 20%.\\\n",
    "Лучше показатели и у овдовевших и состоящих в разводе, но при этом выборка в количестве сильно меньше."
   ]
  },
  {
   "cell_type": "markdown",
   "id": "9529de68",
   "metadata": {
    "deletable": false,
    "editable": false,
    "id": "9529de68"
   },
   "source": [
    "#### 3.3 Есть ли зависимость между уровнем дохода и возвратом кредита в срок?"
   ]
  },
  {
   "cell_type": "code",
   "execution_count": 24,
   "id": "8787f44a",
   "metadata": {
    "deletable": false,
    "id": "8787f44a"
   },
   "outputs": [
    {
     "data": {
      "text/html": [
       "<div>\n",
       "<style scoped>\n",
       "    .dataframe tbody tr th:only-of-type {\n",
       "        vertical-align: middle;\n",
       "    }\n",
       "\n",
       "    .dataframe tbody tr th {\n",
       "        vertical-align: top;\n",
       "    }\n",
       "\n",
       "    .dataframe thead th {\n",
       "        text-align: right;\n",
       "    }\n",
       "</style>\n",
       "<table border=\"1\" class=\"dataframe\">\n",
       "  <thead>\n",
       "    <tr style=\"text-align: right;\">\n",
       "      <th></th>\n",
       "      <th>count</th>\n",
       "      <th>mean</th>\n",
       "      <th>sum</th>\n",
       "    </tr>\n",
       "    <tr>\n",
       "      <th>total_income_category</th>\n",
       "      <th></th>\n",
       "      <th></th>\n",
       "      <th></th>\n",
       "    </tr>\n",
       "  </thead>\n",
       "  <tbody>\n",
       "    <tr>\n",
       "      <th>A</th>\n",
       "      <td>25.0</td>\n",
       "      <td>0.080000</td>\n",
       "      <td>2.0</td>\n",
       "    </tr>\n",
       "    <tr>\n",
       "      <th>B</th>\n",
       "      <td>5014.0</td>\n",
       "      <td>0.070602</td>\n",
       "      <td>354.0</td>\n",
       "    </tr>\n",
       "    <tr>\n",
       "      <th>C</th>\n",
       "      <td>15921.0</td>\n",
       "      <td>0.084982</td>\n",
       "      <td>1353.0</td>\n",
       "    </tr>\n",
       "    <tr>\n",
       "      <th>D</th>\n",
       "      <td>349.0</td>\n",
       "      <td>0.060172</td>\n",
       "      <td>21.0</td>\n",
       "    </tr>\n",
       "    <tr>\n",
       "      <th>E</th>\n",
       "      <td>22.0</td>\n",
       "      <td>0.090909</td>\n",
       "      <td>2.0</td>\n",
       "    </tr>\n",
       "  </tbody>\n",
       "</table>\n",
       "</div>"
      ],
      "text/plain": [
       "                         count      mean     sum\n",
       "total_income_category                           \n",
       "A                         25.0  0.080000     2.0\n",
       "B                       5014.0  0.070602   354.0\n",
       "C                      15921.0  0.084982  1353.0\n",
       "D                        349.0  0.060172    21.0\n",
       "E                         22.0  0.090909     2.0"
      ]
     },
     "execution_count": 24,
     "metadata": {},
     "output_type": "execute_result"
    }
   ],
   "source": [
    "# Ваш код будет здесь. Вы можете создавать новые ячейки.\n",
    "data.pivot_table(values='debt', index='total_income_category', aggfunc=({'count', 'sum', 'mean'})).sort_values('total_income_category')"
   ]
  },
  {
   "cell_type": "markdown",
   "id": "6dd14b57",
   "metadata": {
    "deletable": false,
    "id": "6dd14b57"
   },
   "source": [
    "**Вывод:**\\\n",
    "Прослеживается отчетливая парабола: пик задолженностей приходится на\\\n",
    "медианную группу дохода; в то время, как по краям наименьшие значения.\\\n",
    "Нужны дополнительные проперки.\n",
    "\n",
    "*пытался найти через функцию параболические индексы, но не сообразил\\\n",
    "как их можно \"подвязать\" к выводу. прошу разъяснений, по возможности\\\n",
    "спасибо!*"
   ]
  },
  {
   "cell_type": "markdown",
   "id": "96afb069",
   "metadata": {},
   "source": [
    "**Вывод:**\\\n",
    "К сожалению, в анализе можем использовать только 2 категории: В и С. Так как количество строк остальных групп меньньше.\\\n",
    "По двум группам видим четкую тенденцию к увеличению коэфицента невыплат с уменьшением уровня дохода."
   ]
  },
  {
   "cell_type": "markdown",
   "id": "1dcc9b12",
   "metadata": {
    "deletable": false,
    "editable": false,
    "id": "1dcc9b12"
   },
   "source": [
    "#### 3.4 Как разные цели кредита влияют на его возврат в срок?"
   ]
  },
  {
   "cell_type": "code",
   "execution_count": 25,
   "id": "c602bc8b",
   "metadata": {
    "deletable": false,
    "id": "c602bc8b"
   },
   "outputs": [
    {
     "data": {
      "text/html": [
       "<div>\n",
       "<style scoped>\n",
       "    .dataframe tbody tr th:only-of-type {\n",
       "        vertical-align: middle;\n",
       "    }\n",
       "\n",
       "    .dataframe tbody tr th {\n",
       "        vertical-align: top;\n",
       "    }\n",
       "\n",
       "    .dataframe thead th {\n",
       "        text-align: right;\n",
       "    }\n",
       "</style>\n",
       "<table border=\"1\" class=\"dataframe\">\n",
       "  <thead>\n",
       "    <tr style=\"text-align: right;\">\n",
       "      <th></th>\n",
       "      <th>count</th>\n",
       "      <th>mean</th>\n",
       "      <th>sum</th>\n",
       "    </tr>\n",
       "    <tr>\n",
       "      <th>purpose_category</th>\n",
       "      <th></th>\n",
       "      <th></th>\n",
       "      <th></th>\n",
       "    </tr>\n",
       "  </thead>\n",
       "  <tbody>\n",
       "    <tr>\n",
       "      <th>операции с недвижимостью</th>\n",
       "      <td>10751.0</td>\n",
       "      <td>0.072551</td>\n",
       "      <td>780.0</td>\n",
       "    </tr>\n",
       "    <tr>\n",
       "      <th>проведение свадьбы</th>\n",
       "      <td>2313.0</td>\n",
       "      <td>0.079118</td>\n",
       "      <td>183.0</td>\n",
       "    </tr>\n",
       "    <tr>\n",
       "      <th>получение образования</th>\n",
       "      <td>3988.0</td>\n",
       "      <td>0.092528</td>\n",
       "      <td>369.0</td>\n",
       "    </tr>\n",
       "    <tr>\n",
       "      <th>операции с автомобилем</th>\n",
       "      <td>4279.0</td>\n",
       "      <td>0.093480</td>\n",
       "      <td>400.0</td>\n",
       "    </tr>\n",
       "  </tbody>\n",
       "</table>\n",
       "</div>"
      ],
      "text/plain": [
       "                            count      mean    sum\n",
       "purpose_category                                  \n",
       "операции с недвижимостью  10751.0  0.072551  780.0\n",
       "проведение свадьбы         2313.0  0.079118  183.0\n",
       "получение образования      3988.0  0.092528  369.0\n",
       "операции с автомобилем     4279.0  0.093480  400.0"
      ]
     },
     "execution_count": 25,
     "metadata": {},
     "output_type": "execute_result"
    }
   ],
   "source": [
    "# Ваш код будет здесь. Вы можете создавать новые ячейки.\n",
    "data.pivot_table(values='debt', index='purpose_category', aggfunc=({'count', 'sum', 'mean'})).sort_values('mean')"
   ]
  },
  {
   "cell_type": "markdown",
   "id": "cf05ed63",
   "metadata": {
    "deletable": false,
    "id": "cf05ed63"
   },
   "source": [
    "**Вывод:**\\\n",
    "Выборка широкая. Коэфиценты говорят сами за себя:\\\n",
    "1. кредиты на недвижимость и свадьбу имеют наименьшую просрочку\n",
    "2. кредиты на автомобиль и образование - самые нестабильные к выплате"
   ]
  },
  {
   "cell_type": "markdown",
   "id": "46c1f10b",
   "metadata": {
    "deletable": false,
    "editable": false,
    "id": "46c1f10b"
   },
   "source": [
    "#### 3.5 Приведите возможные причины появления пропусков в исходных данных."
   ]
  },
  {
   "cell_type": "markdown",
   "id": "3697d2a9",
   "metadata": {
    "deletable": false,
    "id": "3697d2a9"
   },
   "source": [
    "*Ответ:* \n",
    "1. Ошибка сбора данных\n",
    "2. Несоответствие формата данных (например, int/str)\n",
    "3. Неполные данные анкет (например, email)\n",
    "4. Удаление данных"
   ]
  },
  {
   "cell_type": "markdown",
   "id": "3137d257",
   "metadata": {
    "deletable": false,
    "editable": false,
    "id": "3137d257"
   },
   "source": [
    "#### 3.6 Объясните, почему заполнить пропуски медианным значением — лучшее решение для количественных переменных."
   ]
  },
  {
   "cell_type": "markdown",
   "id": "cf40012a",
   "metadata": {
    "deletable": false,
    "id": "cf40012a"
   },
   "source": [
    "*Ответ:* \n",
    "Медианные значения для пропусков количественных данных позволяют использовать Дату без нарушения\\\n",
    "центральной предельной теоремы. Что крайне положительно влияет на точность выводов."
   ]
  },
  {
   "cell_type": "markdown",
   "id": "57bc304e",
   "metadata": {
    "deletable": false,
    "editable": false,
    "id": "57bc304e"
   },
   "source": [
    "### Шаг 4: общий вывод."
   ]
  },
  {
   "cell_type": "markdown",
   "id": "1ab75d1c",
   "metadata": {
    "deletable": false,
    "id": "1ab75d1c"
   },
   "source": [
    "**Общий вывод:**\\\n",
    "Получив Дату с данными заемщиков, на этапе предобработки данных заполнил количественные переенные медианными значениями для каждой группы.\\\n",
    "Явных проблем в выгрузке данных выявлено не было.\\\n",
    "Добавил колонку с ранжированием по зарплате, а также целям кредита для дальнейшего анализа и работы с гипотезами.\\\n",
    "\n",
    "Проанализировав данные, выполнив расчеты можно сказать:\n",
    "\n",
    "1. Влияет ли наличие/количество детей - **не удалось** из-за узкой выборки\n",
    "2. Влияние наличие семейных отношений положително влияей на возврат кредита\n",
    "3. Платежеспособность повышается с уровнем дохода. Однако, нужно больше данных, чтобы установить зависимость\n",
    "4. Более надежными кредитными целями являются: операции с недвижимостью; проведение свадьбы. Получение образования и операции с автомобилем же менее надежные\n",
    "\n",
    "Рекомендации:\n",
    "Чтобы выявить зависимости в гипотезах связаных с количеством детей и уровнем дохода хотелось бы более широкую Дату."
   ]
  }
 ],
 "metadata": {
  "ExecuteTimeLog": [
   {
    "duration": 53,
    "start_time": "2023-08-01T10:06:40.518Z"
   },
   {
    "duration": 7,
    "start_time": "2023-08-01T10:07:14.098Z"
   },
   {
    "duration": 9,
    "start_time": "2023-08-01T10:07:21.849Z"
   },
   {
    "duration": 725,
    "start_time": "2023-08-01T10:07:38.936Z"
   },
   {
    "duration": 29,
    "start_time": "2023-08-01T10:07:40.152Z"
   },
   {
    "duration": 17,
    "start_time": "2023-08-01T10:07:41.853Z"
   },
   {
    "duration": 11,
    "start_time": "2023-08-01T10:07:42.806Z"
   },
   {
    "duration": 47,
    "start_time": "2023-08-01T10:07:43.127Z"
   },
   {
    "duration": 4,
    "start_time": "2023-08-01T10:07:43.607Z"
   },
   {
    "duration": 8,
    "start_time": "2023-08-01T10:07:43.941Z"
   },
   {
    "duration": 5,
    "start_time": "2023-08-01T10:07:44.431Z"
   },
   {
    "duration": 9,
    "start_time": "2023-08-01T10:07:44.761Z"
   },
   {
    "duration": 8,
    "start_time": "2023-08-01T10:07:45.094Z"
   },
   {
    "duration": 47,
    "start_time": "2023-08-01T10:07:45.615Z"
   },
   {
    "duration": 12,
    "start_time": "2023-08-01T10:07:45.957Z"
   },
   {
    "duration": 5,
    "start_time": "2023-08-01T10:07:46.487Z"
   },
   {
    "duration": 18,
    "start_time": "2023-08-01T10:07:47.015Z"
   },
   {
    "duration": 23,
    "start_time": "2023-08-01T10:07:47.349Z"
   },
   {
    "duration": 20,
    "start_time": "2023-08-01T10:07:47.527Z"
   },
   {
    "duration": 4,
    "start_time": "2023-08-01T10:07:48.041Z"
   },
   {
    "duration": 10,
    "start_time": "2023-08-01T10:07:48.206Z"
   },
   {
    "duration": 9,
    "start_time": "2023-08-01T10:07:48.558Z"
   },
   {
    "duration": 3,
    "start_time": "2023-08-01T10:07:48.920Z"
   },
   {
    "duration": 10,
    "start_time": "2023-08-01T10:07:49.110Z"
   },
   {
    "duration": 18,
    "start_time": "2023-08-01T10:07:50.518Z"
   },
   {
    "duration": 15,
    "start_time": "2023-08-01T10:19:03.265Z"
   },
   {
    "duration": 12,
    "start_time": "2023-08-01T10:45:56.243Z"
   },
   {
    "duration": 34,
    "start_time": "2023-08-01T10:46:36.815Z"
   },
   {
    "duration": 14,
    "start_time": "2023-08-01T10:47:20.007Z"
   },
   {
    "duration": 487,
    "start_time": "2023-08-01T10:47:28.272Z"
   },
   {
    "duration": 26,
    "start_time": "2023-08-01T10:47:28.761Z"
   },
   {
    "duration": 18,
    "start_time": "2023-08-01T10:47:28.789Z"
   },
   {
    "duration": 11,
    "start_time": "2023-08-01T10:47:28.810Z"
   },
   {
    "duration": 67,
    "start_time": "2023-08-01T10:47:28.823Z"
   },
   {
    "duration": 4,
    "start_time": "2023-08-01T10:47:28.893Z"
   },
   {
    "duration": 23,
    "start_time": "2023-08-01T10:47:28.899Z"
   },
   {
    "duration": 12,
    "start_time": "2023-08-01T10:47:28.925Z"
   },
   {
    "duration": 17,
    "start_time": "2023-08-01T10:47:28.939Z"
   },
   {
    "duration": 9,
    "start_time": "2023-08-01T10:47:28.960Z"
   },
   {
    "duration": 51,
    "start_time": "2023-08-01T10:47:28.971Z"
   },
   {
    "duration": 11,
    "start_time": "2023-08-01T10:47:29.024Z"
   },
   {
    "duration": 12,
    "start_time": "2023-08-01T10:47:29.037Z"
   },
   {
    "duration": 18,
    "start_time": "2023-08-01T10:47:29.050Z"
   },
   {
    "duration": 28,
    "start_time": "2023-08-01T10:47:29.070Z"
   },
   {
    "duration": 18,
    "start_time": "2023-08-01T10:47:29.100Z"
   },
   {
    "duration": 4,
    "start_time": "2023-08-01T10:47:29.119Z"
   },
   {
    "duration": 21,
    "start_time": "2023-08-01T10:47:29.125Z"
   },
   {
    "duration": 11,
    "start_time": "2023-08-01T10:47:29.152Z"
   },
   {
    "duration": 11,
    "start_time": "2023-08-01T10:47:29.165Z"
   },
   {
    "duration": 20,
    "start_time": "2023-08-01T10:47:29.177Z"
   },
   {
    "duration": 19,
    "start_time": "2023-08-01T10:47:29.199Z"
   },
   {
    "duration": 7,
    "start_time": "2023-08-01T10:47:29.220Z"
   },
   {
    "duration": 12,
    "start_time": "2023-08-01T10:47:29.228Z"
   },
   {
    "duration": 16,
    "start_time": "2023-08-01T10:47:29.242Z"
   },
   {
    "duration": 7,
    "start_time": "2023-08-01T10:58:41.197Z"
   },
   {
    "duration": 8,
    "start_time": "2023-08-01T10:58:51.019Z"
   },
   {
    "duration": 11,
    "start_time": "2023-08-01T10:59:08.443Z"
   },
   {
    "duration": 8,
    "start_time": "2023-08-01T10:59:14.170Z"
   },
   {
    "duration": 9,
    "start_time": "2023-08-01T10:59:23.019Z"
   },
   {
    "duration": 29,
    "start_time": "2023-08-01T10:59:31.937Z"
   },
   {
    "duration": 8,
    "start_time": "2023-08-01T11:00:08.425Z"
   },
   {
    "duration": 9,
    "start_time": "2023-08-01T11:00:27.432Z"
   },
   {
    "duration": 9,
    "start_time": "2023-08-01T11:00:36.200Z"
   },
   {
    "duration": 68,
    "start_time": "2023-08-01T11:00:56.456Z"
   },
   {
    "duration": 9,
    "start_time": "2023-08-01T11:01:01.188Z"
   },
   {
    "duration": 6,
    "start_time": "2023-08-01T11:01:16.534Z"
   },
   {
    "duration": 1637,
    "start_time": "2023-08-01T11:02:22.012Z"
   },
   {
    "duration": 9,
    "start_time": "2023-08-01T11:02:34.100Z"
   },
   {
    "duration": 9,
    "start_time": "2023-08-01T11:02:58.388Z"
   },
   {
    "duration": 7,
    "start_time": "2023-08-01T11:03:11.947Z"
   },
   {
    "duration": 16,
    "start_time": "2023-08-01T11:03:27.957Z"
   },
   {
    "duration": 46,
    "start_time": "2023-08-02T12:47:13.470Z"
   },
   {
    "duration": 557,
    "start_time": "2023-08-02T12:47:32.573Z"
   },
   {
    "duration": 32,
    "start_time": "2023-08-02T12:47:33.133Z"
   },
   {
    "duration": 23,
    "start_time": "2023-08-02T12:47:33.167Z"
   },
   {
    "duration": 9,
    "start_time": "2023-08-02T12:47:33.192Z"
   },
   {
    "duration": 71,
    "start_time": "2023-08-02T12:47:33.203Z"
   },
   {
    "duration": 4,
    "start_time": "2023-08-02T12:47:33.276Z"
   },
   {
    "duration": 12,
    "start_time": "2023-08-02T12:47:33.281Z"
   },
   {
    "duration": 7,
    "start_time": "2023-08-02T12:47:33.294Z"
   },
   {
    "duration": 21,
    "start_time": "2023-08-02T12:47:33.302Z"
   },
   {
    "duration": 6,
    "start_time": "2023-08-02T12:47:33.325Z"
   },
   {
    "duration": 44,
    "start_time": "2023-08-02T12:47:33.332Z"
   },
   {
    "duration": 8,
    "start_time": "2023-08-02T12:47:33.378Z"
   },
   {
    "duration": 5,
    "start_time": "2023-08-02T12:47:33.388Z"
   },
   {
    "duration": 19,
    "start_time": "2023-08-02T12:47:33.394Z"
   },
   {
    "duration": 31,
    "start_time": "2023-08-02T12:47:33.414Z"
   },
   {
    "duration": 22,
    "start_time": "2023-08-02T12:47:33.447Z"
   },
   {
    "duration": 10,
    "start_time": "2023-08-02T12:47:33.474Z"
   },
   {
    "duration": 12,
    "start_time": "2023-08-02T12:47:33.485Z"
   },
   {
    "duration": 5,
    "start_time": "2023-08-02T12:47:33.499Z"
   },
   {
    "duration": 8,
    "start_time": "2023-08-02T12:47:33.505Z"
   },
   {
    "duration": 10,
    "start_time": "2023-08-02T12:47:33.515Z"
   },
   {
    "duration": 16,
    "start_time": "2023-08-02T12:47:33.526Z"
   },
   {
    "duration": 32,
    "start_time": "2023-08-02T12:47:33.543Z"
   },
   {
    "duration": 3,
    "start_time": "2023-08-02T12:47:33.577Z"
   },
   {
    "duration": 12,
    "start_time": "2023-08-02T12:47:33.581Z"
   },
   {
    "duration": 11,
    "start_time": "2023-08-02T12:53:59.818Z"
   },
   {
    "duration": 469,
    "start_time": "2023-08-02T12:54:08.870Z"
   },
   {
    "duration": 32,
    "start_time": "2023-08-02T12:54:09.341Z"
   },
   {
    "duration": 15,
    "start_time": "2023-08-02T12:54:09.374Z"
   },
   {
    "duration": 9,
    "start_time": "2023-08-02T12:54:09.390Z"
   },
   {
    "duration": 32,
    "start_time": "2023-08-02T12:54:09.401Z"
   },
   {
    "duration": 4,
    "start_time": "2023-08-02T12:54:09.434Z"
   },
   {
    "duration": 11,
    "start_time": "2023-08-02T12:54:09.463Z"
   },
   {
    "duration": 5,
    "start_time": "2023-08-02T12:54:09.475Z"
   },
   {
    "duration": 6,
    "start_time": "2023-08-02T12:54:09.482Z"
   },
   {
    "duration": 4,
    "start_time": "2023-08-02T12:54:09.490Z"
   },
   {
    "duration": 34,
    "start_time": "2023-08-02T12:54:09.496Z"
   },
   {
    "duration": 34,
    "start_time": "2023-08-02T12:54:09.531Z"
   },
   {
    "duration": 4,
    "start_time": "2023-08-02T12:54:09.573Z"
   },
   {
    "duration": 11,
    "start_time": "2023-08-02T12:54:09.579Z"
   },
   {
    "duration": 18,
    "start_time": "2023-08-02T12:54:09.592Z"
   },
   {
    "duration": 18,
    "start_time": "2023-08-02T12:54:09.612Z"
   },
   {
    "duration": 3,
    "start_time": "2023-08-02T12:54:09.631Z"
   },
   {
    "duration": 18,
    "start_time": "2023-08-02T12:54:09.658Z"
   },
   {
    "duration": 5,
    "start_time": "2023-08-02T12:54:09.678Z"
   },
   {
    "duration": 19,
    "start_time": "2023-08-02T12:54:09.685Z"
   },
   {
    "duration": 40,
    "start_time": "2023-08-02T12:54:09.706Z"
   },
   {
    "duration": 79,
    "start_time": "2023-08-02T12:54:09.747Z"
   },
   {
    "duration": 0,
    "start_time": "2023-08-02T12:54:09.828Z"
   },
   {
    "duration": 0,
    "start_time": "2023-08-02T12:54:09.830Z"
   },
   {
    "duration": 0,
    "start_time": "2023-08-02T12:54:09.831Z"
   },
   {
    "duration": 12,
    "start_time": "2023-08-02T12:55:29.735Z"
   },
   {
    "duration": 18,
    "start_time": "2023-08-02T12:55:36.309Z"
   },
   {
    "duration": 14,
    "start_time": "2023-08-02T12:56:15.986Z"
   },
   {
    "duration": 21,
    "start_time": "2023-08-02T12:56:55.457Z"
   },
   {
    "duration": 15,
    "start_time": "2023-08-02T12:57:03.071Z"
   },
   {
    "duration": 13,
    "start_time": "2023-08-02T12:57:50.273Z"
   },
   {
    "duration": 17,
    "start_time": "2023-08-02T12:58:17.217Z"
   },
   {
    "duration": 18,
    "start_time": "2023-08-02T12:58:23.636Z"
   },
   {
    "duration": 19,
    "start_time": "2023-08-02T12:58:46.217Z"
   },
   {
    "duration": 24,
    "start_time": "2023-08-02T12:59:28.013Z"
   },
   {
    "duration": 16,
    "start_time": "2023-08-02T12:59:37.641Z"
   },
   {
    "duration": 19,
    "start_time": "2023-08-02T12:59:48.459Z"
   },
   {
    "duration": 17,
    "start_time": "2023-08-02T13:02:00.838Z"
   },
   {
    "duration": 85,
    "start_time": "2023-08-02T13:05:49.688Z"
   },
   {
    "duration": 28,
    "start_time": "2023-08-02T13:05:57.772Z"
   },
   {
    "duration": 34,
    "start_time": "2023-08-02T13:07:26.796Z"
   },
   {
    "duration": 17,
    "start_time": "2023-08-02T13:07:54.638Z"
   },
   {
    "duration": 16,
    "start_time": "2023-08-02T13:11:45.799Z"
   },
   {
    "duration": 7,
    "start_time": "2023-08-02T13:12:18.847Z"
   },
   {
    "duration": 12,
    "start_time": "2023-08-02T13:12:47.860Z"
   },
   {
    "duration": 86,
    "start_time": "2023-08-02T13:12:53.045Z"
   },
   {
    "duration": 13,
    "start_time": "2023-08-02T13:12:59.957Z"
   },
   {
    "duration": 13,
    "start_time": "2023-08-02T13:13:22.885Z"
   },
   {
    "duration": 116,
    "start_time": "2023-08-02T13:13:45.554Z"
   },
   {
    "duration": 14,
    "start_time": "2023-08-02T13:13:52.242Z"
   },
   {
    "duration": 11,
    "start_time": "2023-08-02T13:14:17.270Z"
   },
   {
    "duration": 14,
    "start_time": "2023-08-02T13:15:30.185Z"
   },
   {
    "duration": 14,
    "start_time": "2023-08-02T13:15:53.850Z"
   },
   {
    "duration": 18,
    "start_time": "2023-08-02T13:19:49.210Z"
   },
   {
    "duration": 20,
    "start_time": "2023-08-02T13:20:49.352Z"
   },
   {
    "duration": 22,
    "start_time": "2023-08-02T13:22:20.462Z"
   },
   {
    "duration": 442,
    "start_time": "2023-08-02T13:22:31.710Z"
   },
   {
    "duration": 24,
    "start_time": "2023-08-02T13:22:32.154Z"
   },
   {
    "duration": 15,
    "start_time": "2023-08-02T13:22:32.180Z"
   },
   {
    "duration": 20,
    "start_time": "2023-08-02T13:22:32.198Z"
   },
   {
    "duration": 57,
    "start_time": "2023-08-02T13:22:32.219Z"
   },
   {
    "duration": 4,
    "start_time": "2023-08-02T13:22:32.278Z"
   },
   {
    "duration": 45,
    "start_time": "2023-08-02T13:22:32.284Z"
   },
   {
    "duration": 15,
    "start_time": "2023-08-02T13:22:32.331Z"
   },
   {
    "duration": 39,
    "start_time": "2023-08-02T13:22:32.348Z"
   },
   {
    "duration": 23,
    "start_time": "2023-08-02T13:22:32.389Z"
   },
   {
    "duration": 56,
    "start_time": "2023-08-02T13:22:32.414Z"
   },
   {
    "duration": 9,
    "start_time": "2023-08-02T13:22:32.473Z"
   },
   {
    "duration": 16,
    "start_time": "2023-08-02T13:22:32.483Z"
   },
   {
    "duration": 20,
    "start_time": "2023-08-02T13:22:32.501Z"
   },
   {
    "duration": 38,
    "start_time": "2023-08-02T13:22:32.523Z"
   },
   {
    "duration": 21,
    "start_time": "2023-08-02T13:22:32.563Z"
   },
   {
    "duration": 5,
    "start_time": "2023-08-02T13:22:32.585Z"
   },
   {
    "duration": 15,
    "start_time": "2023-08-02T13:22:32.591Z"
   },
   {
    "duration": 9,
    "start_time": "2023-08-02T13:22:32.607Z"
   },
   {
    "duration": 3,
    "start_time": "2023-08-02T13:22:32.618Z"
   },
   {
    "duration": 36,
    "start_time": "2023-08-02T13:22:32.623Z"
   },
   {
    "duration": 99,
    "start_time": "2023-08-02T13:22:32.661Z"
   },
   {
    "duration": 0,
    "start_time": "2023-08-02T13:22:32.762Z"
   },
   {
    "duration": 0,
    "start_time": "2023-08-02T13:22:32.763Z"
   },
   {
    "duration": 0,
    "start_time": "2023-08-02T13:22:32.765Z"
   },
   {
    "duration": 23,
    "start_time": "2023-08-02T13:22:54.150Z"
   },
   {
    "duration": 22,
    "start_time": "2023-08-02T13:24:00.796Z"
   },
   {
    "duration": 89,
    "start_time": "2023-08-02T13:25:46.065Z"
   },
   {
    "duration": 89,
    "start_time": "2023-08-02T13:25:51.618Z"
   },
   {
    "duration": 19,
    "start_time": "2023-08-02T13:25:57.353Z"
   },
   {
    "duration": 18,
    "start_time": "2023-08-02T13:27:23.453Z"
   },
   {
    "duration": 18,
    "start_time": "2023-08-02T13:27:37.630Z"
   },
   {
    "duration": 9,
    "start_time": "2023-08-02T13:28:32.877Z"
   },
   {
    "duration": 8,
    "start_time": "2023-08-02T13:28:42.099Z"
   },
   {
    "duration": 18,
    "start_time": "2023-08-02T13:29:05.227Z"
   },
   {
    "duration": 16,
    "start_time": "2023-08-02T13:30:14.089Z"
   },
   {
    "duration": 20,
    "start_time": "2023-08-02T13:30:30.027Z"
   },
   {
    "duration": 15,
    "start_time": "2023-08-02T13:30:57.032Z"
   },
   {
    "duration": 17,
    "start_time": "2023-08-02T13:31:29.752Z"
   },
   {
    "duration": 485,
    "start_time": "2023-08-02T13:31:49.059Z"
   },
   {
    "duration": 23,
    "start_time": "2023-08-02T13:31:49.546Z"
   },
   {
    "duration": 16,
    "start_time": "2023-08-02T13:31:49.570Z"
   },
   {
    "duration": 11,
    "start_time": "2023-08-02T13:31:49.588Z"
   },
   {
    "duration": 35,
    "start_time": "2023-08-02T13:31:49.601Z"
   },
   {
    "duration": 3,
    "start_time": "2023-08-02T13:31:49.638Z"
   },
   {
    "duration": 22,
    "start_time": "2023-08-02T13:31:49.643Z"
   },
   {
    "duration": 5,
    "start_time": "2023-08-02T13:31:49.667Z"
   },
   {
    "duration": 9,
    "start_time": "2023-08-02T13:31:49.674Z"
   },
   {
    "duration": 7,
    "start_time": "2023-08-02T13:31:49.686Z"
   },
   {
    "duration": 45,
    "start_time": "2023-08-02T13:31:49.695Z"
   },
   {
    "duration": 27,
    "start_time": "2023-08-02T13:31:49.742Z"
   },
   {
    "duration": 13,
    "start_time": "2023-08-02T13:31:49.771Z"
   },
   {
    "duration": 21,
    "start_time": "2023-08-02T13:31:49.786Z"
   },
   {
    "duration": 38,
    "start_time": "2023-08-02T13:31:49.809Z"
   },
   {
    "duration": 20,
    "start_time": "2023-08-02T13:31:49.849Z"
   },
   {
    "duration": 6,
    "start_time": "2023-08-02T13:31:49.871Z"
   },
   {
    "duration": 17,
    "start_time": "2023-08-02T13:31:49.879Z"
   },
   {
    "duration": 19,
    "start_time": "2023-08-02T13:31:49.898Z"
   },
   {
    "duration": 4,
    "start_time": "2023-08-02T13:31:49.919Z"
   },
   {
    "duration": 31,
    "start_time": "2023-08-02T13:31:49.925Z"
   },
   {
    "duration": 83,
    "start_time": "2023-08-02T13:31:49.958Z"
   },
   {
    "duration": 0,
    "start_time": "2023-08-02T13:31:50.042Z"
   },
   {
    "duration": 0,
    "start_time": "2023-08-02T13:31:50.044Z"
   },
   {
    "duration": 0,
    "start_time": "2023-08-02T13:31:50.045Z"
   },
   {
    "duration": 9,
    "start_time": "2023-08-02T13:32:32.422Z"
   },
   {
    "duration": 8,
    "start_time": "2023-08-02T13:33:39.659Z"
   },
   {
    "duration": 28,
    "start_time": "2023-08-02T13:33:48.037Z"
   },
   {
    "duration": 451,
    "start_time": "2023-08-02T13:33:58.393Z"
   },
   {
    "duration": 26,
    "start_time": "2023-08-02T13:33:58.846Z"
   },
   {
    "duration": 23,
    "start_time": "2023-08-02T13:33:58.874Z"
   },
   {
    "duration": 9,
    "start_time": "2023-08-02T13:33:58.900Z"
   },
   {
    "duration": 31,
    "start_time": "2023-08-02T13:33:58.911Z"
   },
   {
    "duration": 17,
    "start_time": "2023-08-02T13:33:58.944Z"
   },
   {
    "duration": 13,
    "start_time": "2023-08-02T13:33:58.962Z"
   },
   {
    "duration": 5,
    "start_time": "2023-08-02T13:33:58.977Z"
   },
   {
    "duration": 12,
    "start_time": "2023-08-02T13:33:58.984Z"
   },
   {
    "duration": 6,
    "start_time": "2023-08-02T13:33:58.998Z"
   },
   {
    "duration": 54,
    "start_time": "2023-08-02T13:33:59.005Z"
   },
   {
    "duration": 10,
    "start_time": "2023-08-02T13:33:59.061Z"
   },
   {
    "duration": 4,
    "start_time": "2023-08-02T13:33:59.072Z"
   },
   {
    "duration": 12,
    "start_time": "2023-08-02T13:33:59.077Z"
   },
   {
    "duration": 23,
    "start_time": "2023-08-02T13:33:59.090Z"
   },
   {
    "duration": 18,
    "start_time": "2023-08-02T13:33:59.115Z"
   },
   {
    "duration": 25,
    "start_time": "2023-08-02T13:33:59.135Z"
   },
   {
    "duration": 12,
    "start_time": "2023-08-02T13:33:59.162Z"
   },
   {
    "duration": 6,
    "start_time": "2023-08-02T13:33:59.176Z"
   },
   {
    "duration": 3,
    "start_time": "2023-08-02T13:33:59.183Z"
   },
   {
    "duration": 13,
    "start_time": "2023-08-02T13:33:59.188Z"
   },
   {
    "duration": 104,
    "start_time": "2023-08-02T13:33:59.202Z"
   },
   {
    "duration": 0,
    "start_time": "2023-08-02T13:33:59.308Z"
   },
   {
    "duration": 0,
    "start_time": "2023-08-02T13:33:59.309Z"
   },
   {
    "duration": 0,
    "start_time": "2023-08-02T13:33:59.310Z"
   },
   {
    "duration": 23,
    "start_time": "2023-08-02T13:36:41.799Z"
   },
   {
    "duration": 81,
    "start_time": "2023-08-02T13:39:14.659Z"
   },
   {
    "duration": 8,
    "start_time": "2023-08-02T13:39:24.452Z"
   },
   {
    "duration": 14,
    "start_time": "2023-08-02T13:39:40.755Z"
   },
   {
    "duration": 25,
    "start_time": "2023-08-02T13:41:43.110Z"
   },
   {
    "duration": 22,
    "start_time": "2023-08-02T13:41:55.614Z"
   },
   {
    "duration": 20,
    "start_time": "2023-08-02T13:42:29.003Z"
   },
   {
    "duration": 8,
    "start_time": "2023-08-02T13:44:39.185Z"
   },
   {
    "duration": 17,
    "start_time": "2023-08-02T13:44:46.770Z"
   },
   {
    "duration": 32,
    "start_time": "2023-08-02T13:45:34.057Z"
   },
   {
    "duration": 24,
    "start_time": "2023-08-02T13:45:44.305Z"
   },
   {
    "duration": 20,
    "start_time": "2023-08-02T13:47:08.989Z"
   },
   {
    "duration": 19,
    "start_time": "2023-08-02T13:47:19.212Z"
   },
   {
    "duration": 493,
    "start_time": "2023-08-02T13:47:30.342Z"
   },
   {
    "duration": 24,
    "start_time": "2023-08-02T13:47:30.837Z"
   },
   {
    "duration": 61,
    "start_time": "2023-08-02T13:47:30.863Z"
   },
   {
    "duration": 50,
    "start_time": "2023-08-02T13:47:30.927Z"
   },
   {
    "duration": 54,
    "start_time": "2023-08-02T13:47:30.979Z"
   },
   {
    "duration": 21,
    "start_time": "2023-08-02T13:47:31.035Z"
   },
   {
    "duration": 30,
    "start_time": "2023-08-02T13:47:31.058Z"
   },
   {
    "duration": 54,
    "start_time": "2023-08-02T13:47:31.090Z"
   },
   {
    "duration": 43,
    "start_time": "2023-08-02T13:47:31.146Z"
   },
   {
    "duration": 74,
    "start_time": "2023-08-02T13:47:31.193Z"
   },
   {
    "duration": 63,
    "start_time": "2023-08-02T13:47:31.269Z"
   },
   {
    "duration": 17,
    "start_time": "2023-08-02T13:47:31.334Z"
   },
   {
    "duration": 34,
    "start_time": "2023-08-02T13:47:31.353Z"
   },
   {
    "duration": 40,
    "start_time": "2023-08-02T13:47:31.388Z"
   },
   {
    "duration": 45,
    "start_time": "2023-08-02T13:47:31.429Z"
   },
   {
    "duration": 35,
    "start_time": "2023-08-02T13:47:31.476Z"
   },
   {
    "duration": 15,
    "start_time": "2023-08-02T13:47:31.513Z"
   },
   {
    "duration": 35,
    "start_time": "2023-08-02T13:47:31.529Z"
   },
   {
    "duration": 40,
    "start_time": "2023-08-02T13:47:31.566Z"
   },
   {
    "duration": 36,
    "start_time": "2023-08-02T13:47:31.608Z"
   },
   {
    "duration": 50,
    "start_time": "2023-08-02T13:47:31.645Z"
   },
   {
    "duration": 49,
    "start_time": "2023-08-02T13:47:31.697Z"
   },
   {
    "duration": 38,
    "start_time": "2023-08-02T13:47:31.748Z"
   },
   {
    "duration": 37,
    "start_time": "2023-08-02T13:47:31.787Z"
   },
   {
    "duration": 67,
    "start_time": "2023-08-02T13:47:31.826Z"
   },
   {
    "duration": 17,
    "start_time": "2023-08-02T13:47:46.363Z"
   },
   {
    "duration": 14,
    "start_time": "2023-08-02T13:48:02.626Z"
   },
   {
    "duration": 79,
    "start_time": "2023-08-02T13:48:17.110Z"
   },
   {
    "duration": 27,
    "start_time": "2023-08-02T13:48:25.275Z"
   },
   {
    "duration": 20,
    "start_time": "2023-08-02T13:48:48.578Z"
   },
   {
    "duration": 15,
    "start_time": "2023-08-02T13:49:19.662Z"
   },
   {
    "duration": 395,
    "start_time": "2023-08-02T13:49:46.838Z"
   },
   {
    "duration": 15,
    "start_time": "2023-08-02T13:49:56.074Z"
   },
   {
    "duration": 10,
    "start_time": "2023-08-02T13:50:26.688Z"
   },
   {
    "duration": 20,
    "start_time": "2023-08-02T13:50:57.638Z"
   },
   {
    "duration": 15,
    "start_time": "2023-08-02T13:51:21.550Z"
   },
   {
    "duration": 22,
    "start_time": "2023-08-02T13:51:42.599Z"
   },
   {
    "duration": 18,
    "start_time": "2023-08-02T13:51:51.109Z"
   },
   {
    "duration": 16,
    "start_time": "2023-08-02T13:52:41.133Z"
   },
   {
    "duration": 462,
    "start_time": "2023-08-02T13:52:55.472Z"
   },
   {
    "duration": 22,
    "start_time": "2023-08-02T13:52:55.936Z"
   },
   {
    "duration": 19,
    "start_time": "2023-08-02T13:52:55.960Z"
   },
   {
    "duration": 10,
    "start_time": "2023-08-02T13:52:55.981Z"
   },
   {
    "duration": 40,
    "start_time": "2023-08-02T13:52:55.993Z"
   },
   {
    "duration": 4,
    "start_time": "2023-08-02T13:52:56.035Z"
   },
   {
    "duration": 10,
    "start_time": "2023-08-02T13:52:56.059Z"
   },
   {
    "duration": 5,
    "start_time": "2023-08-02T13:52:56.071Z"
   },
   {
    "duration": 14,
    "start_time": "2023-08-02T13:52:56.078Z"
   },
   {
    "duration": 6,
    "start_time": "2023-08-02T13:52:56.094Z"
   },
   {
    "duration": 75,
    "start_time": "2023-08-02T13:52:56.102Z"
   },
   {
    "duration": 13,
    "start_time": "2023-08-02T13:52:56.179Z"
   },
   {
    "duration": 5,
    "start_time": "2023-08-02T13:52:56.194Z"
   },
   {
    "duration": 16,
    "start_time": "2023-08-02T13:52:56.203Z"
   },
   {
    "duration": 49,
    "start_time": "2023-08-02T13:52:56.221Z"
   },
   {
    "duration": 17,
    "start_time": "2023-08-02T13:52:56.271Z"
   },
   {
    "duration": 3,
    "start_time": "2023-08-02T13:52:56.290Z"
   },
   {
    "duration": 29,
    "start_time": "2023-08-02T13:52:56.294Z"
   },
   {
    "duration": 16,
    "start_time": "2023-08-02T13:52:56.325Z"
   },
   {
    "duration": 46,
    "start_time": "2023-08-02T13:52:56.343Z"
   },
   {
    "duration": 86,
    "start_time": "2023-08-02T13:52:56.390Z"
   },
   {
    "duration": 89,
    "start_time": "2023-08-02T13:52:56.478Z"
   },
   {
    "duration": 28,
    "start_time": "2023-08-02T13:52:56.569Z"
   },
   {
    "duration": 9,
    "start_time": "2023-08-02T13:52:56.599Z"
   },
   {
    "duration": 5,
    "start_time": "2023-08-02T13:52:56.610Z"
   },
   {
    "duration": 83,
    "start_time": "2023-08-02T13:56:35.717Z"
   },
   {
    "duration": 16,
    "start_time": "2023-08-02T13:56:56.110Z"
   },
   {
    "duration": 19,
    "start_time": "2023-08-02T13:57:07.161Z"
   },
   {
    "duration": 20,
    "start_time": "2023-08-02T14:14:07.640Z"
   },
   {
    "duration": 78,
    "start_time": "2023-08-02T14:14:59.100Z"
   },
   {
    "duration": 13,
    "start_time": "2023-08-02T14:15:10.902Z"
   },
   {
    "duration": 18,
    "start_time": "2023-08-02T14:15:39.889Z"
   },
   {
    "duration": 488,
    "start_time": "2023-08-02T14:15:49.742Z"
   },
   {
    "duration": 23,
    "start_time": "2023-08-02T14:15:50.232Z"
   },
   {
    "duration": 14,
    "start_time": "2023-08-02T14:15:50.257Z"
   },
   {
    "duration": 25,
    "start_time": "2023-08-02T14:15:50.273Z"
   },
   {
    "duration": 51,
    "start_time": "2023-08-02T14:15:50.299Z"
   },
   {
    "duration": 3,
    "start_time": "2023-08-02T14:15:50.352Z"
   },
   {
    "duration": 19,
    "start_time": "2023-08-02T14:15:50.356Z"
   },
   {
    "duration": 24,
    "start_time": "2023-08-02T14:15:50.376Z"
   },
   {
    "duration": 16,
    "start_time": "2023-08-02T14:15:50.401Z"
   },
   {
    "duration": 35,
    "start_time": "2023-08-02T14:15:50.420Z"
   },
   {
    "duration": 47,
    "start_time": "2023-08-02T14:15:50.456Z"
   },
   {
    "duration": 9,
    "start_time": "2023-08-02T14:15:50.505Z"
   },
   {
    "duration": 38,
    "start_time": "2023-08-02T14:15:50.515Z"
   },
   {
    "duration": 27,
    "start_time": "2023-08-02T14:15:50.554Z"
   },
   {
    "duration": 28,
    "start_time": "2023-08-02T14:15:50.583Z"
   },
   {
    "duration": 18,
    "start_time": "2023-08-02T14:15:50.612Z"
   },
   {
    "duration": 4,
    "start_time": "2023-08-02T14:15:50.632Z"
   },
   {
    "duration": 10,
    "start_time": "2023-08-02T14:15:50.638Z"
   },
   {
    "duration": 13,
    "start_time": "2023-08-02T14:15:50.650Z"
   },
   {
    "duration": 3,
    "start_time": "2023-08-02T14:15:50.665Z"
   },
   {
    "duration": 12,
    "start_time": "2023-08-02T14:15:50.669Z"
   },
   {
    "duration": 21,
    "start_time": "2023-08-02T14:15:50.683Z"
   },
   {
    "duration": 19,
    "start_time": "2023-08-02T14:15:50.706Z"
   },
   {
    "duration": 42,
    "start_time": "2023-08-02T14:15:50.726Z"
   },
   {
    "duration": 2,
    "start_time": "2023-08-02T14:15:50.770Z"
   },
   {
    "duration": 17,
    "start_time": "2023-08-02T14:16:03.502Z"
   },
   {
    "duration": 377,
    "start_time": "2023-08-02T14:36:33.156Z"
   },
   {
    "duration": 78,
    "start_time": "2023-08-02T14:40:26.956Z"
   },
   {
    "duration": 10,
    "start_time": "2023-08-02T14:40:35.236Z"
   },
   {
    "duration": 16,
    "start_time": "2023-08-02T14:42:53.056Z"
   },
   {
    "duration": 16,
    "start_time": "2023-08-02T14:43:14.934Z"
   },
   {
    "duration": 18,
    "start_time": "2023-08-02T14:53:32.802Z"
   },
   {
    "duration": 777,
    "start_time": "2023-08-02T14:53:40.824Z"
   },
   {
    "duration": 23,
    "start_time": "2023-08-02T14:53:41.603Z"
   },
   {
    "duration": 14,
    "start_time": "2023-08-02T14:53:41.628Z"
   },
   {
    "duration": 20,
    "start_time": "2023-08-02T14:53:41.644Z"
   },
   {
    "duration": 38,
    "start_time": "2023-08-02T14:53:41.666Z"
   },
   {
    "duration": 4,
    "start_time": "2023-08-02T14:53:41.706Z"
   },
   {
    "duration": 12,
    "start_time": "2023-08-02T14:53:41.712Z"
   },
   {
    "duration": 4,
    "start_time": "2023-08-02T14:53:41.726Z"
   },
   {
    "duration": 9,
    "start_time": "2023-08-02T14:53:41.760Z"
   },
   {
    "duration": 10,
    "start_time": "2023-08-02T14:53:41.772Z"
   },
   {
    "duration": 39,
    "start_time": "2023-08-02T14:53:41.784Z"
   },
   {
    "duration": 11,
    "start_time": "2023-08-02T14:53:41.825Z"
   },
   {
    "duration": 24,
    "start_time": "2023-08-02T14:53:41.838Z"
   },
   {
    "duration": 16,
    "start_time": "2023-08-02T14:53:41.864Z"
   },
   {
    "duration": 21,
    "start_time": "2023-08-02T14:53:41.882Z"
   },
   {
    "duration": 18,
    "start_time": "2023-08-02T14:53:41.905Z"
   },
   {
    "duration": 3,
    "start_time": "2023-08-02T14:53:41.925Z"
   },
   {
    "duration": 43,
    "start_time": "2023-08-02T14:53:41.930Z"
   },
   {
    "duration": 7,
    "start_time": "2023-08-02T14:53:41.975Z"
   },
   {
    "duration": 4,
    "start_time": "2023-08-02T14:53:41.984Z"
   },
   {
    "duration": 10,
    "start_time": "2023-08-02T14:53:41.990Z"
   },
   {
    "duration": 19,
    "start_time": "2023-08-02T14:53:42.002Z"
   },
   {
    "duration": 57,
    "start_time": "2023-08-02T14:53:42.023Z"
   },
   {
    "duration": 18,
    "start_time": "2023-08-02T14:53:42.083Z"
   },
   {
    "duration": 2,
    "start_time": "2023-08-02T14:53:42.103Z"
   },
   {
    "duration": 29,
    "start_time": "2023-08-02T14:55:04.387Z"
   },
   {
    "duration": 28,
    "start_time": "2023-08-02T14:55:41.147Z"
   },
   {
    "duration": 759,
    "start_time": "2023-08-02T15:13:57.072Z"
   },
   {
    "duration": 22,
    "start_time": "2023-08-02T15:13:57.833Z"
   },
   {
    "duration": 14,
    "start_time": "2023-08-02T15:13:57.857Z"
   },
   {
    "duration": 9,
    "start_time": "2023-08-02T15:13:57.872Z"
   },
   {
    "duration": 33,
    "start_time": "2023-08-02T15:13:57.883Z"
   },
   {
    "duration": 4,
    "start_time": "2023-08-02T15:13:57.917Z"
   },
   {
    "duration": 38,
    "start_time": "2023-08-02T15:13:57.922Z"
   },
   {
    "duration": 4,
    "start_time": "2023-08-02T15:13:57.962Z"
   },
   {
    "duration": 10,
    "start_time": "2023-08-02T15:13:57.969Z"
   },
   {
    "duration": 7,
    "start_time": "2023-08-02T15:13:57.980Z"
   },
   {
    "duration": 34,
    "start_time": "2023-08-02T15:13:57.989Z"
   },
   {
    "duration": 9,
    "start_time": "2023-08-02T15:13:58.025Z"
   },
   {
    "duration": 5,
    "start_time": "2023-08-02T15:13:58.060Z"
   },
   {
    "duration": 14,
    "start_time": "2023-08-02T15:13:58.068Z"
   },
   {
    "duration": 20,
    "start_time": "2023-08-02T15:13:58.084Z"
   },
   {
    "duration": 18,
    "start_time": "2023-08-02T15:13:58.105Z"
   },
   {
    "duration": 4,
    "start_time": "2023-08-02T15:13:58.125Z"
   },
   {
    "duration": 36,
    "start_time": "2023-08-02T15:13:58.131Z"
   },
   {
    "duration": 5,
    "start_time": "2023-08-02T15:13:58.169Z"
   },
   {
    "duration": 3,
    "start_time": "2023-08-02T15:13:58.176Z"
   },
   {
    "duration": 11,
    "start_time": "2023-08-02T15:13:58.181Z"
   },
   {
    "duration": 26,
    "start_time": "2023-08-02T15:13:58.193Z"
   },
   {
    "duration": 42,
    "start_time": "2023-08-02T15:13:58.221Z"
   },
   {
    "duration": 19,
    "start_time": "2023-08-02T15:13:58.264Z"
   },
   {
    "duration": 21,
    "start_time": "2023-08-02T15:13:58.285Z"
   },
   {
    "duration": 803,
    "start_time": "2023-08-02T16:51:55.950Z"
   },
   {
    "duration": 34,
    "start_time": "2023-08-02T16:51:56.755Z"
   },
   {
    "duration": 14,
    "start_time": "2023-08-02T16:51:56.790Z"
   },
   {
    "duration": 10,
    "start_time": "2023-08-02T16:51:56.806Z"
   },
   {
    "duration": 71,
    "start_time": "2023-08-02T16:51:56.818Z"
   },
   {
    "duration": 3,
    "start_time": "2023-08-02T16:51:56.891Z"
   },
   {
    "duration": 15,
    "start_time": "2023-08-02T16:51:56.895Z"
   },
   {
    "duration": 4,
    "start_time": "2023-08-02T16:51:56.911Z"
   },
   {
    "duration": 7,
    "start_time": "2023-08-02T16:51:56.917Z"
   },
   {
    "duration": 5,
    "start_time": "2023-08-02T16:51:56.926Z"
   },
   {
    "duration": 63,
    "start_time": "2023-08-02T16:51:56.932Z"
   },
   {
    "duration": 9,
    "start_time": "2023-08-02T16:51:56.996Z"
   },
   {
    "duration": 9,
    "start_time": "2023-08-02T16:51:57.007Z"
   },
   {
    "duration": 11,
    "start_time": "2023-08-02T16:51:57.017Z"
   },
   {
    "duration": 35,
    "start_time": "2023-08-02T16:51:57.029Z"
   },
   {
    "duration": 22,
    "start_time": "2023-08-02T16:51:57.067Z"
   },
   {
    "duration": 3,
    "start_time": "2023-08-02T16:51:57.091Z"
   },
   {
    "duration": 13,
    "start_time": "2023-08-02T16:51:57.095Z"
   },
   {
    "duration": 10,
    "start_time": "2023-08-02T16:51:57.110Z"
   },
   {
    "duration": 3,
    "start_time": "2023-08-02T16:51:57.121Z"
   },
   {
    "duration": 33,
    "start_time": "2023-08-02T16:51:57.126Z"
   },
   {
    "duration": 21,
    "start_time": "2023-08-02T16:51:57.161Z"
   },
   {
    "duration": 20,
    "start_time": "2023-08-02T16:51:57.183Z"
   },
   {
    "duration": 18,
    "start_time": "2023-08-02T16:51:57.204Z"
   },
   {
    "duration": 60,
    "start_time": "2023-08-02T16:51:57.224Z"
   },
   {
    "duration": 65,
    "start_time": "2023-08-03T19:27:26.622Z"
   },
   {
    "duration": 1321,
    "start_time": "2023-08-03T19:27:39.327Z"
   },
   {
    "duration": 22,
    "start_time": "2023-08-03T19:27:40.651Z"
   },
   {
    "duration": 15,
    "start_time": "2023-08-03T19:27:40.675Z"
   },
   {
    "duration": 9,
    "start_time": "2023-08-03T19:27:40.692Z"
   },
   {
    "duration": 35,
    "start_time": "2023-08-03T19:27:40.703Z"
   },
   {
    "duration": 4,
    "start_time": "2023-08-03T19:27:40.740Z"
   },
   {
    "duration": 15,
    "start_time": "2023-08-03T19:27:40.745Z"
   },
   {
    "duration": 5,
    "start_time": "2023-08-03T19:27:40.762Z"
   },
   {
    "duration": 9,
    "start_time": "2023-08-03T19:27:40.769Z"
   },
   {
    "duration": 37,
    "start_time": "2023-08-03T19:27:40.780Z"
   },
   {
    "duration": 37,
    "start_time": "2023-08-03T19:27:40.819Z"
   },
   {
    "duration": 9,
    "start_time": "2023-08-03T19:27:40.858Z"
   },
   {
    "duration": 6,
    "start_time": "2023-08-03T19:27:40.868Z"
   },
   {
    "duration": 12,
    "start_time": "2023-08-03T19:27:40.876Z"
   },
   {
    "duration": 48,
    "start_time": "2023-08-03T19:27:40.890Z"
   },
   {
    "duration": 17,
    "start_time": "2023-08-03T19:27:40.940Z"
   },
   {
    "duration": 23,
    "start_time": "2023-08-03T19:27:40.959Z"
   },
   {
    "duration": 39,
    "start_time": "2023-08-03T19:27:40.983Z"
   },
   {
    "duration": 7,
    "start_time": "2023-08-03T19:27:41.024Z"
   },
   {
    "duration": 18,
    "start_time": "2023-08-03T19:27:41.033Z"
   },
   {
    "duration": 34,
    "start_time": "2023-08-03T19:27:41.053Z"
   },
   {
    "duration": 28,
    "start_time": "2023-08-03T19:27:41.089Z"
   },
   {
    "duration": 19,
    "start_time": "2023-08-03T19:27:41.119Z"
   },
   {
    "duration": 26,
    "start_time": "2023-08-03T19:27:41.140Z"
   },
   {
    "duration": 30,
    "start_time": "2023-08-03T19:27:41.168Z"
   },
   {
    "duration": 16,
    "start_time": "2023-08-03T19:27:59.891Z"
   },
   {
    "duration": 26,
    "start_time": "2023-08-03T19:28:05.868Z"
   },
   {
    "duration": 22,
    "start_time": "2023-08-03T19:30:13.035Z"
   },
   {
    "duration": 22,
    "start_time": "2023-08-03T19:31:27.124Z"
   },
   {
    "duration": 22,
    "start_time": "2023-08-03T19:31:52.837Z"
   },
   {
    "duration": 62,
    "start_time": "2023-08-03T19:35:04.843Z"
   },
   {
    "duration": 112,
    "start_time": "2023-08-03T19:35:58.108Z"
   },
   {
    "duration": 83,
    "start_time": "2023-08-03T19:36:36.165Z"
   },
   {
    "duration": 22,
    "start_time": "2023-08-03T19:39:05.349Z"
   },
   {
    "duration": 30,
    "start_time": "2023-08-03T19:39:15.894Z"
   },
   {
    "duration": 23,
    "start_time": "2023-08-03T19:39:18.602Z"
   },
   {
    "duration": 96,
    "start_time": "2023-08-03T19:39:39.191Z"
   },
   {
    "duration": 20,
    "start_time": "2023-08-03T19:40:26.742Z"
   },
   {
    "duration": 23,
    "start_time": "2023-08-03T19:41:05.457Z"
   },
   {
    "duration": 24,
    "start_time": "2023-08-03T19:41:49.039Z"
   },
   {
    "duration": 24,
    "start_time": "2023-08-03T19:53:17.897Z"
   },
   {
    "duration": 31,
    "start_time": "2023-08-03T19:53:24.925Z"
   },
   {
    "duration": 22,
    "start_time": "2023-08-03T20:02:57.505Z"
   },
   {
    "duration": 34,
    "start_time": "2023-08-03T20:03:13.904Z"
   },
   {
    "duration": 32,
    "start_time": "2023-08-03T20:03:23.641Z"
   },
   {
    "duration": 33,
    "start_time": "2023-08-03T20:03:31.137Z"
   },
   {
    "duration": 986,
    "start_time": "2023-08-04T07:26:44.912Z"
   },
   {
    "duration": 20,
    "start_time": "2023-08-04T07:26:45.900Z"
   },
   {
    "duration": 15,
    "start_time": "2023-08-04T07:26:45.921Z"
   },
   {
    "duration": 9,
    "start_time": "2023-08-04T07:26:45.938Z"
   },
   {
    "duration": 50,
    "start_time": "2023-08-04T07:26:45.949Z"
   },
   {
    "duration": 3,
    "start_time": "2023-08-04T07:26:46.001Z"
   },
   {
    "duration": 11,
    "start_time": "2023-08-04T07:26:46.005Z"
   },
   {
    "duration": 4,
    "start_time": "2023-08-04T07:26:46.017Z"
   },
   {
    "duration": 10,
    "start_time": "2023-08-04T07:26:46.022Z"
   },
   {
    "duration": 4,
    "start_time": "2023-08-04T07:26:46.036Z"
   },
   {
    "duration": 60,
    "start_time": "2023-08-04T07:26:46.042Z"
   },
   {
    "duration": 10,
    "start_time": "2023-08-04T07:26:46.103Z"
   },
   {
    "duration": 5,
    "start_time": "2023-08-04T07:26:46.115Z"
   },
   {
    "duration": 15,
    "start_time": "2023-08-04T07:26:46.121Z"
   },
   {
    "duration": 25,
    "start_time": "2023-08-04T07:26:46.138Z"
   },
   {
    "duration": 33,
    "start_time": "2023-08-04T07:26:46.165Z"
   },
   {
    "duration": 3,
    "start_time": "2023-08-04T07:26:46.199Z"
   },
   {
    "duration": 18,
    "start_time": "2023-08-04T07:26:46.204Z"
   },
   {
    "duration": 5,
    "start_time": "2023-08-04T07:26:46.224Z"
   },
   {
    "duration": 10,
    "start_time": "2023-08-04T07:26:46.230Z"
   },
   {
    "duration": 12,
    "start_time": "2023-08-04T07:26:46.242Z"
   },
   {
    "duration": 23,
    "start_time": "2023-08-04T07:26:46.255Z"
   },
   {
    "duration": 37,
    "start_time": "2023-08-04T07:26:46.279Z"
   },
   {
    "duration": 32,
    "start_time": "2023-08-04T07:26:46.319Z"
   },
   {
    "duration": 22,
    "start_time": "2023-08-04T07:26:46.353Z"
   }
  ],
  "colab": {
   "provenance": []
  },
  "kernelspec": {
   "display_name": "Python 3 (ipykernel)",
   "language": "python",
   "name": "python3"
  },
  "language_info": {
   "codemirror_mode": {
    "name": "ipython",
    "version": 3
   },
   "file_extension": ".py",
   "mimetype": "text/x-python",
   "name": "python",
   "nbconvert_exporter": "python",
   "pygments_lexer": "ipython3",
   "version": "3.9.5"
  },
  "toc": {
   "base_numbering": 1,
   "nav_menu": {},
   "number_sections": true,
   "sideBar": true,
   "skip_h1_title": true,
   "title_cell": "Table of Contents",
   "title_sidebar": "Contents",
   "toc_cell": false,
   "toc_position": {},
   "toc_section_display": true,
   "toc_window_display": false
  }
 },
 "nbformat": 4,
 "nbformat_minor": 5
}
