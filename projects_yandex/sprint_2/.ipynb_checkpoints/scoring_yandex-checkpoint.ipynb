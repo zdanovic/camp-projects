{
 "cells": [
  {
   "cell_type": "markdown",
   "id": "fce4bb7a-11ee-402f-8a64-950a9d41bfeb",
   "metadata": {},
   "source": [
    "# **Предобработка скоринговых данных**"
   ]
  },
  {
   "cell_type": "markdown",
   "id": "fdb08b7d-8717-4c19-9a2f-c1ac218629ee",
   "metadata": {},
   "source": [
    "## Получение Data с данными для скоринга банка. Изучение"
   ]
  },
  {
   "cell_type": "code",
   "execution_count": 1,
   "id": "66753c8a-debc-4ca7-a21d-1a53ebfc512b",
   "metadata": {
    "editable": true,
    "slideshow": {
     "slide_type": ""
    },
    "tags": []
   },
   "outputs": [
    {
     "name": "stdout",
     "output_type": "stream",
     "text": [
      "<class 'pandas.core.frame.DataFrame'>\n",
      "RangeIndex: 21525 entries, 0 to 21524\n",
      "Data columns (total 12 columns):\n",
      " #   Column            Non-Null Count  Dtype  \n",
      "---  ------            --------------  -----  \n",
      " 0   children          21525 non-null  int64  \n",
      " 1   days_employed     19351 non-null  float64\n",
      " 2   dob_years         21525 non-null  int64  \n",
      " 3   education         21525 non-null  object \n",
      " 4   education_id      21525 non-null  int64  \n",
      " 5   family_status     21525 non-null  object \n",
      " 6   family_status_id  21525 non-null  int64  \n",
      " 7   gender            21525 non-null  object \n",
      " 8   income_type       21525 non-null  object \n",
      " 9   debt              21525 non-null  int64  \n",
      " 10  total_income      19351 non-null  float64\n",
      " 11  purpose           21525 non-null  object \n",
      "dtypes: float64(2), int64(5), object(5)\n",
      "memory usage: 2.0+ MB\n"
     ]
    },
    {
     "data": {
      "text/html": [
       "<div>\n",
       "<style scoped>\n",
       "    .dataframe tbody tr th:only-of-type {\n",
       "        vertical-align: middle;\n",
       "    }\n",
       "\n",
       "    .dataframe tbody tr th {\n",
       "        vertical-align: top;\n",
       "    }\n",
       "\n",
       "    .dataframe thead th {\n",
       "        text-align: right;\n",
       "    }\n",
       "</style>\n",
       "<table border=\"1\" class=\"dataframe\">\n",
       "  <thead>\n",
       "    <tr style=\"text-align: right;\">\n",
       "      <th></th>\n",
       "      <th>children</th>\n",
       "      <th>days_employed</th>\n",
       "      <th>dob_years</th>\n",
       "      <th>education</th>\n",
       "      <th>education_id</th>\n",
       "      <th>family_status</th>\n",
       "      <th>family_status_id</th>\n",
       "      <th>gender</th>\n",
       "      <th>income_type</th>\n",
       "      <th>debt</th>\n",
       "      <th>total_income</th>\n",
       "      <th>purpose</th>\n",
       "    </tr>\n",
       "  </thead>\n",
       "  <tbody>\n",
       "    <tr>\n",
       "      <th>0</th>\n",
       "      <td>1</td>\n",
       "      <td>-8437.673028</td>\n",
       "      <td>42</td>\n",
       "      <td>высшее</td>\n",
       "      <td>0</td>\n",
       "      <td>женат / замужем</td>\n",
       "      <td>0</td>\n",
       "      <td>F</td>\n",
       "      <td>сотрудник</td>\n",
       "      <td>0</td>\n",
       "      <td>253875.639453</td>\n",
       "      <td>покупка жилья</td>\n",
       "    </tr>\n",
       "    <tr>\n",
       "      <th>1</th>\n",
       "      <td>1</td>\n",
       "      <td>-4024.803754</td>\n",
       "      <td>36</td>\n",
       "      <td>среднее</td>\n",
       "      <td>1</td>\n",
       "      <td>женат / замужем</td>\n",
       "      <td>0</td>\n",
       "      <td>F</td>\n",
       "      <td>сотрудник</td>\n",
       "      <td>0</td>\n",
       "      <td>112080.014102</td>\n",
       "      <td>приобретение автомобиля</td>\n",
       "    </tr>\n",
       "    <tr>\n",
       "      <th>2</th>\n",
       "      <td>0</td>\n",
       "      <td>-5623.422610</td>\n",
       "      <td>33</td>\n",
       "      <td>Среднее</td>\n",
       "      <td>1</td>\n",
       "      <td>женат / замужем</td>\n",
       "      <td>0</td>\n",
       "      <td>M</td>\n",
       "      <td>сотрудник</td>\n",
       "      <td>0</td>\n",
       "      <td>145885.952297</td>\n",
       "      <td>покупка жилья</td>\n",
       "    </tr>\n",
       "    <tr>\n",
       "      <th>3</th>\n",
       "      <td>3</td>\n",
       "      <td>-4124.747207</td>\n",
       "      <td>32</td>\n",
       "      <td>среднее</td>\n",
       "      <td>1</td>\n",
       "      <td>женат / замужем</td>\n",
       "      <td>0</td>\n",
       "      <td>M</td>\n",
       "      <td>сотрудник</td>\n",
       "      <td>0</td>\n",
       "      <td>267628.550329</td>\n",
       "      <td>дополнительное образование</td>\n",
       "    </tr>\n",
       "    <tr>\n",
       "      <th>4</th>\n",
       "      <td>0</td>\n",
       "      <td>340266.072047</td>\n",
       "      <td>53</td>\n",
       "      <td>среднее</td>\n",
       "      <td>1</td>\n",
       "      <td>гражданский брак</td>\n",
       "      <td>1</td>\n",
       "      <td>F</td>\n",
       "      <td>пенсионер</td>\n",
       "      <td>0</td>\n",
       "      <td>158616.077870</td>\n",
       "      <td>сыграть свадьбу</td>\n",
       "    </tr>\n",
       "  </tbody>\n",
       "</table>\n",
       "</div>"
      ],
      "text/plain": [
       "   children  days_employed  dob_years education  education_id  \\\n",
       "0         1   -8437.673028         42    высшее             0   \n",
       "1         1   -4024.803754         36   среднее             1   \n",
       "2         0   -5623.422610         33   Среднее             1   \n",
       "3         3   -4124.747207         32   среднее             1   \n",
       "4         0  340266.072047         53   среднее             1   \n",
       "\n",
       "      family_status  family_status_id gender income_type  debt   total_income  \\\n",
       "0   женат / замужем                 0      F   сотрудник     0  253875.639453   \n",
       "1   женат / замужем                 0      F   сотрудник     0  112080.014102   \n",
       "2   женат / замужем                 0      M   сотрудник     0  145885.952297   \n",
       "3   женат / замужем                 0      M   сотрудник     0  267628.550329   \n",
       "4  гражданский брак                 1      F   пенсионер     0  158616.077870   \n",
       "\n",
       "                      purpose  \n",
       "0               покупка жилья  \n",
       "1     приобретение автомобиля  \n",
       "2               покупка жилья  \n",
       "3  дополнительное образование  \n",
       "4             сыграть свадьбу  "
      ]
     },
     "execution_count": 1,
     "metadata": {},
     "output_type": "execute_result"
    }
   ],
   "source": [
    "# импорт библиотек, с присвоение псевдонимов\n",
    "import pandas as pd\n",
    "import seaborn as sns\n",
    "import numpy as np\n",
    "\n",
    "# создание ДатаФрейма из (.csv)файла\n",
    "df = pd.read_csv('data.csv')\n",
    "\n",
    "# знакомство с содержимым:\n",
    "df.info()\n",
    "# вывод первых 5 строк\n",
    "df.head()"
   ]
  },
  {
   "cell_type": "markdown",
   "id": "e26eb02e-339c-4207-95ff-6957b2e0ca88",
   "metadata": {},
   "source": [
    "## *Работа с пропущенными значениями*"
   ]
  },
  {
   "cell_type": "code",
   "execution_count": 2,
   "id": "39070ec8-1234-4f24-ab9f-3290dc81a67b",
   "metadata": {},
   "outputs": [
    {
     "data": {
      "text/plain": [
       "children               0\n",
       "days_employed       2174\n",
       "dob_years              0\n",
       "education              0\n",
       "education_id           0\n",
       "family_status          0\n",
       "family_status_id       0\n",
       "gender                 0\n",
       "income_type            0\n",
       "debt                   0\n",
       "total_income        2174\n",
       "purpose                0\n",
       "dtype: int64"
      ]
     },
     "execution_count": 2,
     "metadata": {},
     "output_type": "execute_result"
    }
   ],
   "source": [
    "# проверка пропущенных значений, сумма количества по каждой Series\n",
    "df.isna().sum()"
   ]
  },
  {
   "cell_type": "markdown",
   "id": "8743ed4b-05f5-4182-80a0-f054c2475125",
   "metadata": {},
   "source": [
    "***Значения пропущены в столбцах с количесвом рабочих дней и суммой зарплат.\\\n",
    "На данном шаге разберем возможные причины пропусков колонки с Суммой зарплат:***"
   ]
  },
  {
   "cell_type": "code",
   "execution_count": 3,
   "id": "baeba24c-6304-4f89-aa17-80d60f4e19d1",
   "metadata": {},
   "outputs": [
    {
     "name": "stdout",
     "output_type": "stream",
     "text": [
      "Количество строк с прощуееными значениями одновременно в двух колонках: 2174\n"
     ]
    }
   ],
   "source": [
    "# проверка наличия закономерностей в строках с пропущенными 'total_income' и 'days_employed':\n",
    "print(\"Количество строк с прощуееными значениями одновременно в двух колонках:\", df[(df['days_employed'].isna()) & (df['total_income'].isna())].shape[0])"
   ]
  },
  {
   "cell_type": "markdown",
   "id": "b1eb804c-52a4-41e3-8b3a-82e842198190",
   "metadata": {},
   "source": [
    "***Мы можем наблюдать четкую закономерность в отсутствии значений*** \\\n",
    "в столбцах 'days_employed' и 'total_income', возможные причины:\n",
    "- отсутствие данных о работе лидов\n",
    "- отсутствие работы у лидов\n",
    "- некорректная выгрузка данных\n",
    "\n",
    "***Так как показатель 'total_income' - количественная переменная, \\\n",
    "будет уместно заполнить пропуски медианными значениями. \\\n",
    "В таком случае, выбросы не сильно исказят конечные результаты,\\\n",
    "а мы получим возможность использовать эти строки в анализе, например, других гипотез.***"
   ]
  },
  {
   "cell_type": "code",
   "execution_count": 4,
   "id": "22c386ec-575d-4a4e-b5c1-705984495e8c",
   "metadata": {},
   "outputs": [
    {
     "name": "stdout",
     "output_type": "stream",
     "text": [
      "Количество пустых значений в 'total_income': 0\n",
      "Количество пустых значений в 'days_employed': 0\n"
     ]
    }
   ],
   "source": [
    "# заполним пропуски 'total_income' медианными значениями для этого столбца\n",
    "df['total_income'] = df['total_income'].fillna(df['total_income'].median())\n",
    "\n",
    "# повторим с 'days_employed'\n",
    "df['days_employed'] = df['days_employed'].fillna(df['days_employed'].median())\n",
    "\n",
    "# проверим результат работы предыдущих методов\n",
    "print(\"Количество пустых значений в 'total_income':\", df['total_income'].isna().sum())\n",
    "print(\"Количество пустых значений в 'days_employed':\", df['days_employed'].isna().sum())"
   ]
  },
  {
   "cell_type": "markdown",
   "id": "0625c002-8209-4903-a196-ebfe38ad99ff",
   "metadata": {},
   "source": [
    "Все прошло отлично.\\\n",
    "Проверим аномальные значения и выбросы в строках с количественными данными."
   ]
  },
  {
   "cell_type": "code",
   "execution_count": 5,
   "id": "5e3bc588-dd61-4bc1-89d7-4dccc0a550d5",
   "metadata": {},
   "outputs": [
    {
     "data": {
      "text/html": [
       "<div>\n",
       "<style scoped>\n",
       "    .dataframe tbody tr th:only-of-type {\n",
       "        vertical-align: middle;\n",
       "    }\n",
       "\n",
       "    .dataframe tbody tr th {\n",
       "        vertical-align: top;\n",
       "    }\n",
       "\n",
       "    .dataframe thead th {\n",
       "        text-align: right;\n",
       "    }\n",
       "</style>\n",
       "<table border=\"1\" class=\"dataframe\">\n",
       "  <thead>\n",
       "    <tr style=\"text-align: right;\">\n",
       "      <th></th>\n",
       "      <th>value</th>\n",
       "      <th>children</th>\n",
       "      <th>days_employed</th>\n",
       "      <th>dob_years</th>\n",
       "      <th>education_id</th>\n",
       "      <th>family_status_id</th>\n",
       "      <th>debt</th>\n",
       "      <th>total_income</th>\n",
       "    </tr>\n",
       "  </thead>\n",
       "  <tbody>\n",
       "    <tr>\n",
       "      <th>0</th>\n",
       "      <td>MIN</td>\n",
       "      <td>20</td>\n",
       "      <td>401755.400475</td>\n",
       "      <td>75</td>\n",
       "      <td>4</td>\n",
       "      <td>4</td>\n",
       "      <td>1</td>\n",
       "      <td>2.265604e+06</td>\n",
       "    </tr>\n",
       "    <tr>\n",
       "      <th>1</th>\n",
       "      <td>MAX</td>\n",
       "      <td>-1</td>\n",
       "      <td>-18388.949901</td>\n",
       "      <td>0</td>\n",
       "      <td>0</td>\n",
       "      <td>0</td>\n",
       "      <td>0</td>\n",
       "      <td>2.066726e+04</td>\n",
       "    </tr>\n",
       "  </tbody>\n",
       "</table>\n",
       "</div>"
      ],
      "text/plain": [
       "  value  children  days_employed  dob_years  education_id  family_status_id  \\\n",
       "0   MIN        20  401755.400475         75             4                 4   \n",
       "1   MAX        -1  -18388.949901          0             0                 0   \n",
       "\n",
       "   debt  total_income  \n",
       "0     1  2.265604e+06  \n",
       "1     0  2.066726e+04  "
      ]
     },
     "execution_count": 5,
     "metadata": {},
     "output_type": "execute_result"
    }
   ],
   "source": [
    "# для удобства и наглядности создам DataFrame через словарь\n",
    "df_min_max = {'value': ['MIN', 'MAX'],\n",
    "              'children':         [df['children'].max(),         df['children'].min()],\n",
    "              'days_employed':    [df['days_employed'].max(),    df['days_employed'].min()],\n",
    "              'dob_years':        [df['dob_years'].max(),        df['dob_years'].min()],\n",
    "              'education_id':     [df['education_id'].max(),     df['education_id'].min()],\n",
    "              'family_status_id': [df['family_status_id'].max(), df['family_status_id'].min()],\n",
    "              'debt':             [df['debt'].max(),             df['debt'].min()],\n",
    "              'total_income':     [df['total_income'].max(),     df['total_income'].min()]}\n",
    "\n",
    "pd.DataFrame(data=df_min_max)"
   ]
  },
  {
   "cell_type": "markdown",
   "id": "bdc9b3f2-04e0-4f33-b708-2d7443ed11ec",
   "metadata": {},
   "source": [
    "***В столбце 'children', по всей видимости, присутствует выброс.\\\n",
    "Стоит проверить количесвто вхождения строк со значением 20.\\\n",
    "Немаловероятно, что float был считан с нулем, как 20 int.***\n",
    "***Отрицательные значения - обычная практика в работе с реальными данным.*** \\\n",
    "Вот несколько возможных причин:\n",
    "- ошибки про вводе данных\n",
    "- програмные ошибки, ошибки в логике\n",
    "- некорректные алгоритмы обработки данных\n",
    "- ошибки агрегации данных\n",
    "\n",
    "***Для столбца 'children' можно смело применять функцию abs(),\\\n",
    "так как трудовой стаж измеряется абсолютными целочисленными значениями,\\\n",
    "применим функции к 'days_employed' .abs() и округлим с изменением\\\n",
    "типа данных на int.***"
   ]
  },
  {
   "cell_type": "code",
   "execution_count": 6,
   "id": "be0dd1c5-0e4d-4cd7-b945-9d2746634c8a",
   "metadata": {},
   "outputs": [
    {
     "name": "stdout",
     "output_type": "stream",
     "text": [
      "Минимальное значение для 'children' изменилось на: 0\n",
      "Минимальное значение для 'days_employed' изменилось на: 24\n"
     ]
    }
   ],
   "source": [
    "# применим функцию abs() для Series и сменим тип даннх на int\n",
    "df['children'] = abs(df['children']).astype(int)\n",
    "\n",
    "# применим функцию abs() для Series и сменим тип даннх на int\n",
    "df['days_employed'] = round(abs(df['days_employed'])).astype(int)\n",
    "# проверим значения\n",
    "print(\"Минимальное значение для 'children' изменилось на:\",      df['children'].min())\n",
    "print(\"Минимальное значение для 'days_employed' изменилось на:\", df['days_employed'].min())"
   ]
  },
  {
   "cell_type": "code",
   "execution_count": 7,
   "id": "c1877cef-2bae-4355-bb0a-554887a89287",
   "metadata": {},
   "outputs": [
    {
     "name": "stdout",
     "output_type": "stream",
     "text": [
      "Количество строк с искомым значением: 76\n",
      "Проверка max в кол-ве детей: 5\n"
     ]
    }
   ],
   "source": [
    "# ищем выброс в колонке 'children'\n",
    "print(\"Количество строк с искомым значением:\", df['children'].value_counts()[20])\n",
    "# нивелируем явный выброс путем замены значения\n",
    "df['children'].replace(20, 2, inplace=True)\n",
    "print(\"Проверка max в кол-ве детей:\", df['children'].max())"
   ]
  },
  {
   "cell_type": "markdown",
   "id": "639a66f0-5988-4175-9585-452289976952",
   "metadata": {},
   "source": [
    "***Все прошло отлично.\\\n",
    "\\\n",
    "Теперь изменим тип данных 'total_income' с object на int.\\\n",
    "Применим метод .astype(int) в паре с фукцией round().\\\n",
    "Конечно, потеря минимальная, но ведь в данном упражнии учимся\\\n",
    "логике проектов, а также методам и функциям в аналитике и Python.***"
   ]
  },
  {
   "cell_type": "code",
   "execution_count": 8,
   "id": "5d6d0153-4ad0-40c4-bcf5-15c245768591",
   "metadata": {},
   "outputs": [
    {
     "data": {
      "text/plain": [
       "dtype('int64')"
      ]
     },
     "execution_count": 8,
     "metadata": {},
     "output_type": "execute_result"
    }
   ],
   "source": [
    "df['total_income'] = round(df['total_income']).astype(int)\n",
    "# проверим изменения\n",
    "df['total_income'].dtype"
   ]
  },
  {
   "cell_type": "markdown",
   "id": "91972158-aa54-413b-b7cb-ccff446f7c81",
   "metadata": {},
   "source": [
    "## Работа с дубликатами"
   ]
  },
  {
   "cell_type": "markdown",
   "id": "aec6daf7-718e-4c6f-b425-c3ca3ff474ef",
   "metadata": {},
   "source": [
    "***Для начала проверю строки-дубли, изучу.\\\n",
    "После удалю, оставив первое вхождение строки-дубля, с обновлением индексов.***"
   ]
  },
  {
   "cell_type": "code",
   "execution_count": 9,
   "id": "1adb2e73-0ffa-473a-886c-6104237054a4",
   "metadata": {},
   "outputs": [
    {
     "name": "stdout",
     "output_type": "stream",
     "text": [
      "Общее количество строк до: 21525\n",
      "Количество строк-дублей до: 54\n",
      "\n",
      "Общее количество строк после: 21471\n",
      "Количество строк-дублей после: 0\n"
     ]
    }
   ],
   "source": [
    "print(\"Общее количество строк до:\",df.shape[0])\n",
    "print(\"Количество строк-дублей до:\",df.duplicated().sum())\n",
    "print()\n",
    "# удаляе строки, обновляем индексы\n",
    "df.drop_duplicates(inplace=True, ignore_index=True)\n",
    "print(\"Общее количество строк после:\",df.shape[0])\n",
    "print(\"Количество строк-дублей после:\",df.duplicated().sum())"
   ]
  },
  {
   "cell_type": "markdown",
   "id": "4b604f5e-7cc4-4c4d-9326-c42cb4706eca",
   "metadata": {},
   "source": [
    "***Успех!\\\n",
    "Теперь можно заняться поиском и правкой неявных дубликатов.***"
   ]
  },
  {
   "cell_type": "code",
   "execution_count": 10,
   "id": "9c5eced4-f8f4-42cc-99a8-8e4a0481cd94",
   "metadata": {},
   "outputs": [
    {
     "name": "stdout",
     "output_type": "stream",
     "text": [
      "Уникальные значения в столбце children:\n",
      "[0 1 2 3 4 5]\n",
      "\n",
      "Уникальные значения в столбце days_employed:\n",
      "[    24     30     34 ... 401675 401716 401755]\n",
      "\n",
      "Уникальные значения в столбце dob_years:\n",
      "[ 0 19 20 21 22 23 24 25 26 27 28 29 30 31 32 33 34 35 36 37 38 39 40 41\n",
      " 42 43 44 45 46 47 48 49 50 51 52 53 54 55 56 57 58 59 60 61 62 63 64 65\n",
      " 66 67 68 69 70 71 72 73 74 75]\n",
      "\n",
      "Уникальные значения в столбце education:\n",
      "['ВЫСШЕЕ' 'Высшее' 'НАЧАЛЬНОЕ' 'НЕОКОНЧЕННОЕ ВЫСШЕЕ' 'Начальное'\n",
      " 'Неоконченное высшее' 'СРЕДНЕЕ' 'Среднее' 'УЧЕНАЯ СТЕПЕНЬ'\n",
      " 'Ученая степень' 'высшее' 'начальное' 'неоконченное высшее' 'среднее'\n",
      " 'ученая степень']\n",
      "\n",
      "Уникальные значения в столбце education_id:\n",
      "[0 1 2 3 4]\n",
      "\n",
      "Уникальные значения в столбце family_status:\n",
      "['Не женат / не замужем' 'в разводе' 'вдовец / вдова' 'гражданский брак'\n",
      " 'женат / замужем']\n",
      "\n",
      "Уникальные значения в столбце family_status_id:\n",
      "[0 1 2 3 4]\n",
      "\n",
      "Уникальные значения в столбце gender:\n",
      "['F' 'M' 'XNA']\n",
      "\n",
      "Уникальные значения в столбце income_type:\n",
      "['безработный' 'в декрете' 'госслужащий' 'компаньон' 'пенсионер'\n",
      " 'предприниматель' 'сотрудник' 'студент']\n",
      "\n",
      "Уникальные значения в столбце debt:\n",
      "[0 1]\n",
      "\n",
      "Уникальные значения в столбце total_income:\n",
      "[  20667   21205   21368 ... 1726276 2200852 2265604]\n",
      "\n",
      "Уникальные значения в столбце purpose:\n",
      "['автомобили' 'автомобиль' 'высшее образование'\n",
      " 'дополнительное образование' 'жилье' 'заняться высшим образованием'\n",
      " 'заняться образованием' 'на покупку автомобиля'\n",
      " 'на покупку подержанного автомобиля' 'на покупку своего автомобиля'\n",
      " 'на проведение свадьбы' 'недвижимость' 'образование' 'операции с жильем'\n",
      " 'операции с коммерческой недвижимостью' 'операции с недвижимостью'\n",
      " 'операции со своей недвижимостью' 'покупка жилой недвижимости'\n",
      " 'покупка жилья' 'покупка жилья для сдачи' 'покупка жилья для семьи'\n",
      " 'покупка коммерческой недвижимости' 'покупка недвижимости'\n",
      " 'покупка своего жилья' 'получение высшего образования'\n",
      " 'получение дополнительного образования' 'получение образования'\n",
      " 'приобретение автомобиля' 'профильное образование' 'ремонт жилью'\n",
      " 'свадьба' 'свой автомобиль' 'сделка с автомобилем'\n",
      " 'сделка с подержанным автомобилем' 'строительство жилой недвижимости'\n",
      " 'строительство недвижимости' 'строительство собственной недвижимости'\n",
      " 'сыграть свадьбу']\n",
      "\n"
     ]
    }
   ],
   "source": [
    "# зациклю item в ДатаФрэйме и вложу в тело цикла поиск и вывод уникальных значений\n",
    "for column_name in df.columns:\n",
    "    unique_values = df[column_name].unique()\n",
    "    unique_values.sort()\n",
    "    print(f\"Уникальные значения в столбце {column_name}:\")\n",
    "    print(unique_values)\n",
    "    print()"
   ]
  },
  {
   "cell_type": "markdown",
   "id": "d0680721-fbf8-4fdb-809e-b53479d0c95d",
   "metadata": {},
   "source": [
    "***Замечательно, проблемки только в 2х Series:\\\n",
    "'education', 'purpose'\\\n",
    "из вывода удобно копипастить значения***"
   ]
  },
  {
   "cell_type": "code",
   "execution_count": 11,
   "id": "11a00355-f95a-45c2-8555-81dcadf53bbd",
   "metadata": {},
   "outputs": [],
   "source": [
    "# выявил 5 категорий 'education', согласно 'education_id' \n",
    "df['education'].replace(['НАЧАЛЬНОЕ', 'Начальное'], 'начальное', inplace=True)\n",
    "df['education'].replace(['СРЕДНЕЕ', 'Среднее'], 'среднее', inplace=True)\n",
    "df['education'].replace(['НЕОКОНЧЕННОЕ ВЫСШЕЕ', 'Неоконченное высшее'], 'неоконченное высшее', inplace=True)\n",
    "df['education'].replace(['ВЫСШЕЕ', 'Высшее'], 'высшее', inplace=True)\n",
    "df['education'].replace(['УЧЕНАЯ СТЕПЕНЬ', 'Ученая степень'], 'ученая степень', inplace=True)"
   ]
  },
  {
   "cell_type": "markdown",
   "id": "e206dee0-1327-4c38-92aa-bdd2e4ebac71",
   "metadata": {},
   "source": [
    "***Проверим изменения:***"
   ]
  },
  {
   "cell_type": "code",
   "execution_count": 12,
   "id": "35d01d17-0f06-40b9-acee-63a7ad611a4b",
   "metadata": {},
   "outputs": [
    {
     "name": "stdout",
     "output_type": "stream",
     "text": [
      "['высшее' 'среднее' 'неоконченное высшее' 'начальное' 'ученая степень']\n"
     ]
    }
   ],
   "source": [
    "print(df['education'].unique())"
   ]
  },
  {
   "cell_type": "markdown",
   "id": "f5558aca-75b2-461e-b266-6b4c644a7109",
   "metadata": {},
   "source": [
    "## Консолидирование информации, чистка DF"
   ]
  },
  {
   "cell_type": "markdown",
   "id": "48d742f6-5286-4aec-a1ff-16dbfb5e574e",
   "metadata": {},
   "source": [
    "Создам 2 \"словаря\" для 'education' и 'family_status' с присвоением id."
   ]
  },
  {
   "cell_type": "code",
   "execution_count": 13,
   "id": "5a6f33f9-55b9-4f73-ba13-13d48f25532a",
   "metadata": {},
   "outputs": [
    {
     "name": "stdout",
     "output_type": "stream",
     "text": [
      "   education_id education\n",
      "0             0    высшее\n",
      "1             1   среднее\n",
      "2             1   среднее\n",
      "   family_status_id    family_status\n",
      "0                 0  женат / замужем\n",
      "1                 0  женат / замужем\n",
      "2                 0  женат / замужем\n"
     ]
    }
   ],
   "source": [
    "# \"словарь\" для 'education'\n",
    "education_df = df[['education_id', 'education']]\n",
    "print(education_df.head(3)) # проверка результата\n",
    "\n",
    "# \"словарь\" для 'family_status'\n",
    "family_status_df = df[['family_status_id', 'family_status']]\n",
    "print(family_status_df.head(3)) # проверка результата"
   ]
  },
  {
   "cell_type": "code",
   "execution_count": 14,
   "id": "aaa8a853-fc4f-4aa7-9029-fc7dad460952",
   "metadata": {},
   "outputs": [
    {
     "data": {
      "text/plain": [
       "['children',\n",
       " 'days_employed',\n",
       " 'dob_years',\n",
       " 'education_id',\n",
       " 'family_status_id',\n",
       " 'gender',\n",
       " 'income_type',\n",
       " 'debt',\n",
       " 'total_income',\n",
       " 'purpose']"
      ]
     },
     "execution_count": 14,
     "metadata": {},
     "output_type": "execute_result"
    }
   ],
   "source": [
    "# теперь можно удалить лишнюю информацию из исходного ДатаФрейма\n",
    "df = df.drop(['education', 'family_status'], axis=1)\n",
    "# проверим, как все прошло\n",
    "list(df)"
   ]
  },
  {
   "cell_type": "markdown",
   "id": "b39c1aba-54a9-43f6-b187-6b375b02e01f",
   "metadata": {},
   "source": [
    "## Добавление столбца с присвоением класса платежеспособности"
   ]
  },
  {
   "cell_type": "markdown",
   "id": "7d260975-dad1-4f92-99c7-e07c9a05a0db",
   "metadata": {},
   "source": [
    "***Добавлю новый столбец для указания класса.\\\n",
    "Создам значения для категорий, а также логику присвоения.\\\n",
    "Воспользуюсь функцией .select() библиотеки Numpy,\\\n",
    "она отлично реализует логику.***"
   ]
  },
  {
   "cell_type": "code",
   "execution_count": 15,
   "id": "6780fed3-ed39-497b-ba1c-3a324961cb78",
   "metadata": {},
   "outputs": [
    {
     "data": {
      "text/html": [
       "<div>\n",
       "<style scoped>\n",
       "    .dataframe tbody tr th:only-of-type {\n",
       "        vertical-align: middle;\n",
       "    }\n",
       "\n",
       "    .dataframe tbody tr th {\n",
       "        vertical-align: top;\n",
       "    }\n",
       "\n",
       "    .dataframe thead th {\n",
       "        text-align: right;\n",
       "    }\n",
       "</style>\n",
       "<table border=\"1\" class=\"dataframe\">\n",
       "  <thead>\n",
       "    <tr style=\"text-align: right;\">\n",
       "      <th></th>\n",
       "      <th>children</th>\n",
       "      <th>days_employed</th>\n",
       "      <th>dob_years</th>\n",
       "      <th>education_id</th>\n",
       "      <th>family_status_id</th>\n",
       "      <th>gender</th>\n",
       "      <th>income_type</th>\n",
       "      <th>debt</th>\n",
       "      <th>total_income</th>\n",
       "      <th>purpose</th>\n",
       "      <th>total_income_category</th>\n",
       "    </tr>\n",
       "  </thead>\n",
       "  <tbody>\n",
       "    <tr>\n",
       "      <th>21468</th>\n",
       "      <td>1</td>\n",
       "      <td>2113</td>\n",
       "      <td>38</td>\n",
       "      <td>1</td>\n",
       "      <td>1</td>\n",
       "      <td>M</td>\n",
       "      <td>сотрудник</td>\n",
       "      <td>1</td>\n",
       "      <td>89673</td>\n",
       "      <td>недвижимость</td>\n",
       "      <td>C</td>\n",
       "    </tr>\n",
       "    <tr>\n",
       "      <th>21469</th>\n",
       "      <td>3</td>\n",
       "      <td>3112</td>\n",
       "      <td>38</td>\n",
       "      <td>1</td>\n",
       "      <td>0</td>\n",
       "      <td>M</td>\n",
       "      <td>сотрудник</td>\n",
       "      <td>1</td>\n",
       "      <td>244093</td>\n",
       "      <td>на покупку своего автомобиля</td>\n",
       "      <td>B</td>\n",
       "    </tr>\n",
       "    <tr>\n",
       "      <th>21470</th>\n",
       "      <td>2</td>\n",
       "      <td>1985</td>\n",
       "      <td>40</td>\n",
       "      <td>1</td>\n",
       "      <td>0</td>\n",
       "      <td>F</td>\n",
       "      <td>сотрудник</td>\n",
       "      <td>0</td>\n",
       "      <td>82047</td>\n",
       "      <td>на покупку автомобиля</td>\n",
       "      <td>C</td>\n",
       "    </tr>\n",
       "  </tbody>\n",
       "</table>\n",
       "</div>"
      ],
      "text/plain": [
       "       children  days_employed  dob_years  education_id  family_status_id  \\\n",
       "21468         1           2113         38             1                 1   \n",
       "21469         3           3112         38             1                 0   \n",
       "21470         2           1985         40             1                 0   \n",
       "\n",
       "      gender income_type  debt  total_income                       purpose  \\\n",
       "21468      M   сотрудник     1         89673                  недвижимость   \n",
       "21469      M   сотрудник     1        244093  на покупку своего автомобиля   \n",
       "21470      F   сотрудник     0         82047         на покупку автомобиля   \n",
       "\n",
       "      total_income_category  \n",
       "21468                     C  \n",
       "21469                     B  \n",
       "21470                     C  "
      ]
     },
     "execution_count": 15,
     "metadata": {},
     "output_type": "execute_result"
    }
   ],
   "source": [
    "# категорийные значения\n",
    "values_ti = ['E', 'D' , 'C', 'B', 'A']\n",
    "\n",
    "# логичекие условия для np.select()\n",
    "conditions_ti = [\n",
    "    df['total_income'] <= 30000,\n",
    "    (df['total_income'] >= 30001) & (df['total_income'] <= 50000),\n",
    "    (df['total_income'] >= 50001) & (df['total_income'] <= 200000),\n",
    "    (df['total_income'] >= 200001) & (df['total_income'] <= 1000000),\n",
    "    df['total_income'] >= 1000001\n",
    "]\n",
    "\n",
    "# функция\n",
    "df['total_income_category'] = np.select(conditions_ti, values_ti)\n",
    "df.tail(3) # проверка результата"
   ]
  },
  {
   "cell_type": "markdown",
   "id": "f32b81cc-a0e2-41e5-b810-8a40056f0ba1",
   "metadata": {},
   "source": [
    "## Агрегирование информации о целях займа"
   ]
  },
  {
   "cell_type": "markdown",
   "id": "5d401387-d1fc-4cd4-865e-5d621282af72",
   "metadata": {},
   "source": [
    "Создание нового столбца консолидирующего схожие цели займа."
   ]
  },
  {
   "cell_type": "code",
   "execution_count": 16,
   "id": "5d2f82d8-82f5-4bb3-999f-3d44820c98a5",
   "metadata": {},
   "outputs": [
    {
     "data": {
      "text/html": [
       "<div>\n",
       "<style scoped>\n",
       "    .dataframe tbody tr th:only-of-type {\n",
       "        vertical-align: middle;\n",
       "    }\n",
       "\n",
       "    .dataframe tbody tr th {\n",
       "        vertical-align: top;\n",
       "    }\n",
       "\n",
       "    .dataframe thead th {\n",
       "        text-align: right;\n",
       "    }\n",
       "</style>\n",
       "<table border=\"1\" class=\"dataframe\">\n",
       "  <thead>\n",
       "    <tr style=\"text-align: right;\">\n",
       "      <th></th>\n",
       "      <th>children</th>\n",
       "      <th>days_employed</th>\n",
       "      <th>dob_years</th>\n",
       "      <th>education_id</th>\n",
       "      <th>family_status_id</th>\n",
       "      <th>gender</th>\n",
       "      <th>income_type</th>\n",
       "      <th>debt</th>\n",
       "      <th>total_income</th>\n",
       "      <th>purpose</th>\n",
       "      <th>total_income_category</th>\n",
       "      <th>purpose_category</th>\n",
       "    </tr>\n",
       "  </thead>\n",
       "  <tbody>\n",
       "    <tr>\n",
       "      <th>0</th>\n",
       "      <td>1</td>\n",
       "      <td>8438</td>\n",
       "      <td>42</td>\n",
       "      <td>0</td>\n",
       "      <td>0</td>\n",
       "      <td>F</td>\n",
       "      <td>сотрудник</td>\n",
       "      <td>0</td>\n",
       "      <td>253876</td>\n",
       "      <td>покупка жилья</td>\n",
       "      <td>B</td>\n",
       "      <td>операции с недвижимостью</td>\n",
       "    </tr>\n",
       "    <tr>\n",
       "      <th>1</th>\n",
       "      <td>1</td>\n",
       "      <td>4025</td>\n",
       "      <td>36</td>\n",
       "      <td>1</td>\n",
       "      <td>0</td>\n",
       "      <td>F</td>\n",
       "      <td>сотрудник</td>\n",
       "      <td>0</td>\n",
       "      <td>112080</td>\n",
       "      <td>приобретение автомобиля</td>\n",
       "      <td>C</td>\n",
       "      <td>операции с автомобилем</td>\n",
       "    </tr>\n",
       "    <tr>\n",
       "      <th>2</th>\n",
       "      <td>0</td>\n",
       "      <td>5623</td>\n",
       "      <td>33</td>\n",
       "      <td>1</td>\n",
       "      <td>0</td>\n",
       "      <td>M</td>\n",
       "      <td>сотрудник</td>\n",
       "      <td>0</td>\n",
       "      <td>145886</td>\n",
       "      <td>покупка жилья</td>\n",
       "      <td>C</td>\n",
       "      <td>операции с недвижимостью</td>\n",
       "    </tr>\n",
       "  </tbody>\n",
       "</table>\n",
       "</div>"
      ],
      "text/plain": [
       "   children  days_employed  dob_years  education_id  family_status_id gender  \\\n",
       "0         1           8438         42             0                 0      F   \n",
       "1         1           4025         36             1                 0      F   \n",
       "2         0           5623         33             1                 0      M   \n",
       "\n",
       "  income_type  debt  total_income                  purpose  \\\n",
       "0   сотрудник     0        253876            покупка жилья   \n",
       "1   сотрудник     0        112080  приобретение автомобиля   \n",
       "2   сотрудник     0        145886            покупка жилья   \n",
       "\n",
       "  total_income_category          purpose_category  \n",
       "0                     B  операции с недвижимостью  \n",
       "1                     C    операции с автомобилем  \n",
       "2                     C  операции с недвижимостью  "
      ]
     },
     "execution_count": 16,
     "metadata": {},
     "output_type": "execute_result"
    }
   ],
   "source": [
    "# категории для агрегированной информации\n",
    "values_purpose = ['операции с автомобилем', 'операции с недвижимостью', 'проведение свадьбы', 'получение образования']\n",
    "\n",
    "# логические условия\n",
    "conditions_purpose = [df['purpose'].str.contains('авто'),\n",
    "                      df['purpose'].str.contains('недвиж') | df['purpose'].str.contains('жиль'),\n",
    "                      df['purpose'].str.contains('свадь'),\n",
    "                      df['purpose'].str.contains('образ')\n",
    "                     ]\n",
    "\n",
    "df['purpose_category'] = np.select(conditions_purpose, values_purpose)\n",
    "df.head(3) # проверим, как все прошло"
   ]
  },
  {
   "cell_type": "markdown",
   "id": "95bb46c4-1aa5-4c8a-9923-6131401c7f53",
   "metadata": {},
   "source": [
    "## Проверка гипотез"
   ]
  },
  {
   "cell_type": "markdown",
   "id": "dc57be77-d14c-4c31-ba5c-f57b7764ccdf",
   "metadata": {},
   "source": [
    "### Зависимоть между количеством детей в семье и возвратом кредита в срок"
   ]
  },
  {
   "cell_type": "code",
   "execution_count": 17,
   "id": "48203441-2c7b-4040-bbd9-b24fc24f31a3",
   "metadata": {},
   "outputs": [
    {
     "data": {
      "text/html": [
       "<div>\n",
       "<style scoped>\n",
       "    .dataframe tbody tr th:only-of-type {\n",
       "        vertical-align: middle;\n",
       "    }\n",
       "\n",
       "    .dataframe tbody tr th {\n",
       "        vertical-align: top;\n",
       "    }\n",
       "\n",
       "    .dataframe thead th {\n",
       "        text-align: right;\n",
       "    }\n",
       "</style>\n",
       "<table border=\"1\" class=\"dataframe\">\n",
       "  <thead>\n",
       "    <tr style=\"text-align: right;\">\n",
       "      <th></th>\n",
       "      <th>count_children</th>\n",
       "      <th>sum_children</th>\n",
       "      <th>result_children</th>\n",
       "    </tr>\n",
       "    <tr>\n",
       "      <th>children</th>\n",
       "      <th></th>\n",
       "      <th></th>\n",
       "      <th></th>\n",
       "    </tr>\n",
       "  </thead>\n",
       "  <tbody>\n",
       "    <tr>\n",
       "      <th>4</th>\n",
       "      <td>41</td>\n",
       "      <td>4</td>\n",
       "      <td>0.097561</td>\n",
       "    </tr>\n",
       "    <tr>\n",
       "      <th>2</th>\n",
       "      <td>2128</td>\n",
       "      <td>202</td>\n",
       "      <td>0.094925</td>\n",
       "    </tr>\n",
       "    <tr>\n",
       "      <th>1</th>\n",
       "      <td>4856</td>\n",
       "      <td>445</td>\n",
       "      <td>0.091639</td>\n",
       "    </tr>\n",
       "    <tr>\n",
       "      <th>3</th>\n",
       "      <td>330</td>\n",
       "      <td>27</td>\n",
       "      <td>0.081818</td>\n",
       "    </tr>\n",
       "    <tr>\n",
       "      <th>0</th>\n",
       "      <td>14107</td>\n",
       "      <td>1063</td>\n",
       "      <td>0.075353</td>\n",
       "    </tr>\n",
       "    <tr>\n",
       "      <th>5</th>\n",
       "      <td>9</td>\n",
       "      <td>0</td>\n",
       "      <td>0.000000</td>\n",
       "    </tr>\n",
       "  </tbody>\n",
       "</table>\n",
       "</div>"
      ],
      "text/plain": [
       "          count_children  sum_children  result_children\n",
       "children                                               \n",
       "4                     41             4         0.097561\n",
       "2                   2128           202         0.094925\n",
       "1                   4856           445         0.091639\n",
       "3                    330            27         0.081818\n",
       "0                  14107          1063         0.075353\n",
       "5                      9             0         0.000000"
      ]
     },
     "execution_count": 17,
     "metadata": {},
     "output_type": "execute_result"
    }
   ],
   "source": [
    "debt_from_children = pd.DataFrame()\n",
    "debt_from_children['count_children'] = df.groupby('children')['debt'].count()\n",
    "debt_from_children['sum_children'] = df.groupby('children')['debt'].sum()\n",
    "debt_from_children['result_children'] = debt_from_children['sum_children'] / debt_from_children['count_children'] \n",
    "debt_from_children.sort_values('result_children', ascending = False)"
   ]
  },
  {
   "cell_type": "markdown",
   "id": "a225359b-371b-4c63-a6de-bae5442ea947",
   "metadata": {},
   "source": []
  }
 ],
 "metadata": {
  "kernelspec": {
   "display_name": "Python 3 (ipykernel)",
   "language": "python",
   "name": "python3"
  },
  "language_info": {
   "codemirror_mode": {
    "name": "ipython",
    "version": 3
   },
   "file_extension": ".py",
   "mimetype": "text/x-python",
   "name": "python",
   "nbconvert_exporter": "python",
   "pygments_lexer": "ipython3",
   "version": "3.11.3"
  }
 },
 "nbformat": 4,
 "nbformat_minor": 5
}
